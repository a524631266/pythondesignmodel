{
 "cells": [
  {
   "cell_type": "code",
   "execution_count": 2,
   "metadata": {},
   "outputs": [],
   "source": [
    "import pymysql\n"
   ]
  },
  {
   "cell_type": "code",
   "execution_count": 16,
   "metadata": {},
   "outputs": [
    {
     "name": "stdout",
     "output_type": "stream",
     "text": [
      "数据库下的表格有： ('订单',)\n"
     ]
    }
   ],
   "source": [
    "# 打开数据库连接\n",
    "db = pymysql.connect(\"localhost\",\"root\",\"root1234\",\"mydb\")\n",
    "\n",
    "# 使用curosr() 方法创建一个游标对象 cursor\n",
    "cursor = db.cursor()\n",
    "\n",
    "# 使用execute() 执行sql查询\n",
    "cursor.execute(\"show tables\")\n",
    "\n",
    "# 使用fetchone()  方法来获取单条数据\n",
    "data = cursor.fetchone()\n",
    "\n",
    "print(\"数据库下的表格有：\",data)\n",
    "\n",
    "# 关闭数据库连接\n",
    "db.close()"
   ]
  },
  {
   "cell_type": "code",
   "execution_count": 27,
   "metadata": {},
   "outputs": [],
   "source": [
    "# 打开数据库连接\n",
    "db = pymysql.connect(\"localhost\",\"root\",\"root1234\",\"mydb\")\n",
    "\n",
    "# 使用curosr() 方法创建一个游标对象 cursor\n",
    "cursor = db.cursor()\n",
    "\n",
    "# SQL查询语句\n",
    "# 注意values这里的，如果确定要传入字符串的话，需要用引号\n",
    "sql = \"\"\"\n",
    "insert into dept(depno,deptname,location) values(%d,'%s','%s')\n",
    "\"\"\"  % (70,'project','California')\n",
    "\n",
    "try:\n",
    "    # 执行sql语句\n",
    "    cursor.execute(sql)\n",
    "    # 执行sql\n",
    "    db.commit()\n",
    "except:\n",
    "    # 发生错误时回滚\n",
    "    db.rollback()\n",
    "\n",
    "# 关闭数据库连接    \n",
    "db.close()"
   ]
  },
  {
   "cell_type": "code",
   "execution_count": 28,
   "metadata": {
    "scrolled": true
   },
   "outputs": [
    {
     "name": "stdout",
     "output_type": "stream",
     "text": [
      "部门编号: 10 ,部门名称 ACCOUNTING ,部门地址 NEW YORK\n",
      "部门编号: 20 ,部门名称 RESEARCH ,部门地址 DALLAS\n",
      "部门编号: 30 ,部门名称 SALES ,部门地址 CHICAGO\n",
      "部门编号: 40 ,部门名称 OPERATIONS ,部门地址 BOSTON\n",
      "部门编号: 50 ,部门名称 projec ,部门地址 California\n",
      "部门编号: 60 ,部门名称 project ,部门地址 California\n",
      "部门编号: 70 ,部门名称 project ,部门地址 California\n"
     ]
    }
   ],
   "source": [
    "# 打开数据库连接\n",
    "db = pymysql.connect(\"localhost\",\"root\",\"root1234\",\"mydb\")\n",
    "\n",
    "# 使用curosr() 方法创建一个游标对象 cursor\n",
    "cursor = db.cursor()\n",
    "\n",
    "# SQL查询语句\n",
    "sql = \"\"\"\n",
    "select * from dept where depno >= %s \n",
    "\"\"\"  % (10)\n",
    "\n",
    "try:\n",
    "    # 执行sql语句\n",
    "    cursor.execute(sql)\n",
    "    # 获取所有的记录\n",
    "    results = cursor.fetchall()\n",
    "    for row in results:\n",
    "        depno = row[0]\n",
    "        deptname = row[1]\n",
    "        location = row[2]\n",
    "        print(\"部门编号:\",depno,\",部门名称\",deptname,\",部门地址\",location)\n",
    "\n",
    "except:\n",
    "    print(\"Error: unable to fetch data\")\n",
    "\n",
    "db.close()"
   ]
  },
  {
   "cell_type": "code",
   "execution_count": 35,
   "metadata": {},
   "outputs": [
    {
     "name": "stdout",
     "output_type": "stream",
     "text": [
      "部门编号: 10 ,部门名称 ACCOUNTING ,部门地址 NEW YORK\n",
      "部门编号: 20 ,部门名称 RESEARCH ,部门地址 DALLAS\n",
      "部门编号: 30 ,部门名称 SALES ,部门地址 CHICAGO\n",
      "部门编号: 40 ,部门名称 OPERATIONS ,部门地址 BOSTON\n",
      "部门编号: 50 ,部门名称 projec ,部门地址 California\n",
      "部门编号: 60 ,部门名称 project ,部门地址 California\n"
     ]
    }
   ],
   "source": [
    "# 打开数据库连接\n",
    "db = pymysql.connect(\"localhost\",\"root\",\"root1234\",\"mydb\")\n",
    "\n",
    "# 使用curosr() 方法创建一个游标对象 cursor\n",
    "cursor = db.cursor()\n",
    "\n",
    "# SQL查询语句\n",
    "sql = \"\"\"\n",
    "select * from dept where depno >= %s \n",
    "\"\"\"  % (10)\n",
    "\n",
    "try:\n",
    "    # 执行sql语句\n",
    "    cursor.execute(sql)\n",
    "    # 获取所有的记录\n",
    "    results = cursor.fetchall()\n",
    "    for row in results:\n",
    "        depno = row[0]\n",
    "        deptname = row[1]\n",
    "        location = row[2]\n",
    "        print(\"部门编号:\",depno,\",部门名称\",deptname,\",部门地址\",location)\n",
    "\n",
    "except:\n",
    "    print(\"Error: unable to fetch data\")\n",
    "\n",
    "db.close()"
   ]
  },
  {
   "cell_type": "code",
   "execution_count": 30,
   "metadata": {},
   "outputs": [],
   "source": [
    "# 打开数据库连接\n",
    "db = pymysql.connect(\"localhost\",\"root\",\"root1234\",\"mydb\")\n",
    "\n",
    "# 使用curosr() 方法创建一个游标对象 cursor\n",
    "cursor = db.cursor()\n",
    "\n",
    "# SQL查询语句\n",
    "# 注意values这里的，如果确定要传入字符串的话，需要用引号\n",
    "sql = \"\"\"\n",
    "update dept set deptname = '%s' where depno = %d \n",
    "\"\"\"  % ('xxxx',70)\n",
    "\n",
    "try:\n",
    "    # 执行sql语句\n",
    "    cursor.execute(sql)\n",
    "    # 执行sql\n",
    "    db.commit()\n",
    "except:\n",
    "    # 发生错误时回滚\n",
    "    db.rollback()\n",
    "\n",
    "# 关闭数据库连接    \n",
    "db.close()"
   ]
  },
  {
   "cell_type": "code",
   "execution_count": 36,
   "metadata": {},
   "outputs": [],
   "source": [
    "# 打开数据库连接\n",
    "db = pymysql.connect(\"localhost\",\"root\",\"root1234\",\"mydb\")\n",
    "\n",
    "# 使用curosr() 方法创建一个游标对象 cursor\n",
    "cursor = db.cursor()\n",
    "\n",
    "# SQL查询语句\n",
    "# 注意values这里的，如果确定要传入字符串的话，需要用引号\n",
    "sql = \"\"\"\n",
    "delete from dept where depno = %d \n",
    "\"\"\"  % (70)\n",
    "\n",
    "try:\n",
    "    # 执行sql语句\n",
    "    cursor.execute(sql)\n",
    "    # 执行sql\n",
    "    db.commit()\n",
    "except:\n",
    "    # 发生错误时回滚\n",
    "    db.rollback()\n",
    "\n",
    "# 关闭数据库连接    \n",
    "db.close()"
   ]
  },
  {
   "cell_type": "code",
   "execution_count": null,
   "metadata": {},
   "outputs": [],
   "source": []
  }
 ],
 "metadata": {
  "kernelspec": {
   "display_name": "Python 3",
   "language": "python",
   "name": "python3"
  },
  "language_info": {
   "codemirror_mode": {
    "name": "ipython",
    "version": 3
   },
   "file_extension": ".py",
   "mimetype": "text/x-python",
   "name": "python",
   "nbconvert_exporter": "python",
   "pygments_lexer": "ipython3",
   "version": "3.7.3"
  }
 },
 "nbformat": 4,
 "nbformat_minor": 2
}
