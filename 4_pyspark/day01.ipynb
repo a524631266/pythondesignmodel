{
 "cells": [
  {
   "cell_type": "code",
   "execution_count": 5,
   "metadata": {},
   "outputs": [
    {
     "name": "stdout",
     "output_type": "stream",
     "text": [
      "Answer\n",
      "true\n"
     ]
    }
   ],
   "source": [
    "# 使用快捷键 Ctrl + Enter 可以运行\n",
    "# 使用快捷键 Shift + Enter 也可以运行\n",
    "if True:\n",
    "    print('Answer')\n",
    "    print('true')\n",
    "else:    \n",
    "    print(\"Answer\")\n",
    "    print('false')\n",
    "    "
   ]
  },
  {
   "cell_type": "code",
   "execution_count": 10,
   "metadata": {},
   "outputs": [
    {
     "data": {
      "text/plain": [
       "NoneType"
      ]
     },
     "execution_count": 10,
     "metadata": {},
     "output_type": "execute_result"
    }
   ],
   "source": [
    "# 数据类型\n",
    "a = 'hello'\n",
    "type(a)\n",
    "\n",
    "# 浮点型\n",
    "b = 1.25\n",
    "type(b)\n",
    "\n",
    "# None\n",
    "c = None\n",
    "type(c)"
   ]
  },
  {
   "cell_type": "code",
   "execution_count": 14,
   "metadata": {},
   "outputs": [
    {
     "name": "stdout",
     "output_type": "stream",
     "text": [
      "h\n",
      "h\n",
      "hel\n"
     ]
    }
   ],
   "source": [
    "# 字符串的截取，基本功能类型于 其他语言中的字符串的截取，subString \n",
    "a = 'hello'\n",
    "\n",
    "# 选取索引为0 或者下标为0， 类似于java语言中charAt(i)\n",
    "print(a[0])\n",
    "\n",
    "# 反向索引\n",
    "print(a[-5])\n",
    "\n",
    "# 切片类似于 java 中subString(begin,end) ,左闭右开区间\n",
    "print(a[0:3])\n"
   ]
  },
  {
   "cell_type": "code",
   "execution_count": 32,
   "metadata": {},
   "outputs": [
    {
     "name": "stdout",
     "output_type": "stream",
     "text": [
      "我叫Allen,我年12岁了\n",
      "亲爱的lisa,你12月累计话费是120.5,余额为5.5\n",
      "亲爱的lisa,你12月累计话费是120.5,余额为5.5\n",
      "这批零件的良品率为:98.92%\n"
     ]
    }
   ],
   "source": [
    "# 字符串的拼接\n",
    "# 先按照java中的字符串拼接\n",
    "name = 'Allen'\n",
    "age = 12\n",
    "\n",
    "# 不是str类型不能直接拼接，必须使用str()转成str，相当于java中的toString()\n",
    "res = \"我叫\"+name+\"，今年\"+str(age)+\"岁\"\n",
    "\n",
    "res = \"我叫\",name,\",我今年\",age,\"岁了\"\n",
    "\n",
    "# 格式化字符串 %s:是字符串  %d:整形数字\n",
    "res = \"我叫%s,我年%d岁了\" % (name,age)\n",
    "print(res)\n",
    "\n",
    "# 使用format进行格式化\n",
    "print('亲爱的{},你{}月累计话费是{},余额为{}'.format('lisa',12,120.5,5.5))\n",
    "\n",
    "print('亲爱的{0},你{1}月累计话费是{2},余额为{3}'.format('lisa',12,120.5,5.5))\n",
    "\n",
    "print('这批零件的良品率为:{:.2f}%'.format(98.91999))"
   ]
  },
  {
   "cell_type": "code",
   "execution_count": 43,
   "metadata": {
    "scrolled": false
   },
   "outputs": [
    {
     "name": "stdout",
     "output_type": "stream",
     "text": [
      "hello\n",
      "5\n",
      "he22o\n",
      "['hello', 'world', 'i', 'am', 'coming']\n",
      "HELLO\n",
      "hello\n"
     ]
    }
   ],
   "source": [
    "'''\n",
    "多行注释\n",
    "字符串的内置函数\n",
    "1. 去空格strip()\n",
    "2. len(字符串)\n",
    "3. replace(需要替换的字符字串，拿什么去替换)\n",
    "4. split()\n",
    "5. upper() lower() 大小写转化\n",
    "'''\n",
    "# strip() 去前后空格\n",
    "print(\"    hello \".strip())\n",
    "#\"hello \".strip()\n",
    "\n",
    "# 2.计算字符串的长度\n",
    "print(len(\"spark\"))\n",
    "\n",
    "# 3.replace(需要替换的字符字串，拿什么去替换)\n",
    "print(\"hello\".replace('l','2'))\n",
    "\n",
    "# 4.切割字符串  字符串.split('以什么字符切分')\n",
    "print(\"hello world i am coming\".split(' ')) \n",
    "\n",
    "# 5.大小写转换\n",
    "print(\"hello\".upper())\n",
    "print(\"HELlo\".lower())"
   ]
  },
  {
   "cell_type": "code",
   "execution_count": 47,
   "metadata": {},
   "outputs": [
    {
     "name": "stdout",
     "output_type": "stream",
     "text": [
      "3.3333333333333335\n",
      "3\n",
      "27\n"
     ]
    }
   ],
   "source": [
    "\"\"\"\n",
    "数字类型\n",
    "\"\"\"\n",
    "\n",
    "# 四则运算\n",
    "\n",
    "# 除法, / 余数为浮点型\n",
    "print(10 /3)\n",
    "\n",
    "# 除法， // 余数为整形\n",
    "print(10 // 3)\n",
    "\n",
    "# 乘方运行 比如 3 的 3次方\n",
    "print(3 ** 3)"
   ]
  },
  {
   "cell_type": "code",
   "execution_count": 52,
   "metadata": {},
   "outputs": [
    {
     "name": "stdout",
     "output_type": "stream",
     "text": [
      "假\n",
      "假\n"
     ]
    }
   ],
   "source": [
    "# 布尔 要结合if条件控制\n",
    "# 1 代表true； 0代表fasle \n",
    "if 0:\n",
    "    print(\"真\")\n",
    "else:\n",
    "    print('假')\n",
    "    \n",
    "# 字符串不为空代表true，为空则为false\n",
    "if '':\n",
    "    print('真')\n",
    "else:\n",
    "    print('假')\n",
    "    "
   ]
  },
  {
   "cell_type": "code",
   "execution_count": 57,
   "metadata": {},
   "outputs": [
    {
     "name": "stdout",
     "output_type": "stream",
     "text": [
      "False\n"
     ]
    }
   ],
   "source": [
    "# 逻辑运算\n",
    "print(2 < 1 or 2 != 2)"
   ]
  },
  {
   "cell_type": "code",
   "execution_count": 61,
   "metadata": {},
   "outputs": [
    {
     "name": "stdout",
     "output_type": "stream",
     "text": [
      "True\n",
      "False\n"
     ]
    }
   ],
   "source": [
    "# in 和not in  判断某个元素或者字符字串 在不在一个列表或者一个原字串串\n",
    "print(\"o\" in \"hello\")\n",
    "\n",
    "a = \"spark\"\n",
    "print('!' not in a)"
   ]
  },
  {
   "cell_type": "code",
   "execution_count": 69,
   "metadata": {},
   "outputs": [
    {
     "name": "stdout",
     "output_type": "stream",
     "text": [
      "4\n",
      "下标为1的子列表中的为3的值: 3\n",
      "1到6的子列表: [2, 3, 4, 5, 6]\n",
      "下标从1开始到最后的子列表: [2, 3, 4, 5, 6, 7]\n",
      "从开始到某个下标之间的所有元素的子列表 [1, 2, 3, 4, 5]\n"
     ]
    },
    {
     "ename": "IndexError",
     "evalue": "list index out of range",
     "output_type": "error",
     "traceback": [
      "\u001b[1;31m---------------------------------------------------------------------------\u001b[0m",
      "\u001b[1;31mIndexError\u001b[0m                                Traceback (most recent call last)",
      "\u001b[1;32m<ipython-input-69-2c511765a87c>\u001b[0m in \u001b[0;36m<module>\u001b[1;34m\u001b[0m\n\u001b[0;32m     11\u001b[0m \u001b[0mprint\u001b[0m\u001b[1;33m(\u001b[0m\u001b[1;34m'下标从1开始到最后的子列表:'\u001b[0m\u001b[1;33m,\u001b[0m\u001b[0ml2\u001b[0m\u001b[1;33m[\u001b[0m\u001b[1;36m1\u001b[0m\u001b[1;33m:\u001b[0m\u001b[1;33m]\u001b[0m\u001b[1;33m)\u001b[0m\u001b[1;33m\u001b[0m\u001b[1;33m\u001b[0m\u001b[0m\n\u001b[0;32m     12\u001b[0m \u001b[0mprint\u001b[0m\u001b[1;33m(\u001b[0m\u001b[1;34m'从开始到某个下标之间的所有元素的子列表'\u001b[0m\u001b[1;33m,\u001b[0m\u001b[0ml2\u001b[0m\u001b[1;33m[\u001b[0m\u001b[1;33m:\u001b[0m\u001b[1;36m5\u001b[0m\u001b[1;33m]\u001b[0m\u001b[1;33m)\u001b[0m\u001b[1;33m\u001b[0m\u001b[1;33m\u001b[0m\u001b[0m\n\u001b[1;32m---> 13\u001b[1;33m \u001b[0mprint\u001b[0m\u001b[1;33m(\u001b[0m\u001b[1;34m'列表索引超出范围：'\u001b[0m\u001b[1;33m,\u001b[0m\u001b[0ml2\u001b[0m\u001b[1;33m[\u001b[0m\u001b[1;36m10\u001b[0m\u001b[1;33m]\u001b[0m\u001b[1;33m)\u001b[0m\u001b[1;33m\u001b[0m\u001b[1;33m\u001b[0m\u001b[0m\n\u001b[0m",
      "\u001b[1;31mIndexError\u001b[0m: list index out of range"
     ]
    }
   ],
   "source": [
    "# 创建列表\n",
    "l1 = ['hive','hbase','scala',4,4,2]\n",
    "l2 = [1,2,3,4,5,6,7]\n",
    "#嵌套列表，可以理解为java二维数组\n",
    "l3 = ['hello',[1,2,3,4],'a',1.2]\n",
    "\n",
    "# 索引 根据下标访问元素\n",
    "print(l1[3])\n",
    "print('下标为1的子列表中的为3的值:',l3[1][2])\n",
    "print('1到6的子列表:',l2[1:6])\n",
    "print('下标从1开始到最后的子列表:',l2[1:])\n",
    "print('从开始到某个下标之间的所有元素的子列表',l2[:5])\n",
    "print('列表索引超出范围：',l2[10])\n",
    "\n",
    "\n"
   ]
  },
  {
   "cell_type": "code",
   "execution_count": 76,
   "metadata": {},
   "outputs": [
    {
     "name": "stdout",
     "output_type": "stream",
     "text": [
      "['hadoop', 'hadoop', 2]\n",
      "删除之后的列表l1 ['hadoop', 'hadoop', 2]\n"
     ]
    },
    {
     "data": {
      "text/plain": [
       "[1, 2, 3, 1, 2, 3, 1, 2, 3]"
      ]
     },
     "execution_count": 76,
     "metadata": {},
     "output_type": "execute_result"
    }
   ],
   "source": [
    "# 更新列表的值 \n",
    "l1[1] = 'hadoop'\n",
    "\n",
    "print(l1)\n",
    "\n",
    "# 删除指定索引位置的元素\n",
    "#del l1[0]\n",
    "\n",
    "print('删除之后的列表l1',l1)\n",
    "\n",
    "\n",
    "# 列表的长度\n",
    "len(l2)\n",
    "\n",
    "# 使用 + 拼接两个列表\n",
    "[1,2,3] + ['a','b','c']\n",
    "\n",
    "# 使用 * 重复列表n次\n",
    "[1,2,3] * 3"
   ]
  },
  {
   "cell_type": "code",
   "execution_count": 85,
   "metadata": {},
   "outputs": [
    {
     "name": "stdout",
     "output_type": "stream",
     "text": [
      "hello\n",
      "[1, 2, 3, 4]\n",
      "a\n",
      "1.2\n",
      "chinese, math, sport, music, "
     ]
    }
   ],
   "source": [
    "# 列表的遍历\n",
    "for i in l3:\n",
    "    print(i)\n",
    "\n",
    "course = ['chinese','math','sport','music']\n",
    "\n",
    "for y in course:\n",
    "    print(y,end=', ')"
   ]
  },
  {
   "cell_type": "code",
   "execution_count": 97,
   "metadata": {},
   "outputs": [
    {
     "name": "stdout",
     "output_type": "stream",
     "text": [
      "7\n",
      "1\n",
      "[1, 2, 3, 4, 5, 6, 7]\n",
      "[7, 8, 9, 12, 16, 18, 21]\n",
      "[21, 18, 16, 12, 9, 8, 7]\n"
     ]
    }
   ],
   "source": [
    "# 内置函数\n",
    "\n",
    "# 求最大的元素\n",
    "print(max(l2))\n",
    "\n",
    "# 求最小的元素\n",
    "print(min(l2))\n",
    "\n",
    "# 反转列表\n",
    "l2.reverse()\n",
    "print(l2)\n",
    "\n",
    "nums = [12,8,21,16,7,9,18]\n",
    "# 升序排序\n",
    "nums.sort()\n",
    "print(nums)\n",
    "\n",
    "# 降序排序\n",
    "nums.sort(reverse=True)\n",
    "print(nums)"
   ]
  },
  {
   "cell_type": "code",
   "execution_count": 1,
   "metadata": {},
   "outputs": [
    {
     "data": {
      "text/plain": [
       "[4, 16, 36, 64]"
      ]
     },
     "execution_count": 1,
     "metadata": {},
     "output_type": "execute_result"
    }
   ],
   "source": [
    "# 列表推导式\n",
    "# 执行的时候，先执行后面的for循环，然后再对循环变量执行前面的 表达式\n",
    "[x*x for x in list(range(1,10))]\n",
    "\n",
    "# 执行的时候，先执行中间的for循环，在执行最后的if表达式进行过滤，最后执行最前面的x*x\n",
    "[x*x for x in list(range(1,10)) if x % 2 == 0]"
   ]
  },
  {
   "cell_type": "code",
   "execution_count": 5,
   "metadata": {},
   "outputs": [
    {
     "name": "stdout",
     "output_type": "stream",
     "text": [
      "<class 'tuple'>\n",
      "hello\n",
      "<class 'list'>\n",
      "<class 'set'>\n"
     ]
    }
   ],
   "source": [
    "a = ('hello',12)\n",
    "print(type(a))\n",
    "print(a[0])\n",
    "\n",
    "b = ['hello',12]\n",
    "print(type(b))\n",
    "\n",
    "c = {'hello',12}\n",
    "print(type(c))"
   ]
  },
  {
   "cell_type": "code",
   "execution_count": 6,
   "metadata": {},
   "outputs": [
    {
     "name": "stdout",
     "output_type": "stream",
     "text": [
      "python\n",
      "('python', 12)\n"
     ]
    },
    {
     "ename": "TypeError",
     "evalue": "'tuple' object does not support item assignment",
     "output_type": "error",
     "traceback": [
      "\u001b[1;31m---------------------------------------------------------------------------\u001b[0m",
      "\u001b[1;31mTypeError\u001b[0m                                 Traceback (most recent call last)",
      "\u001b[1;32m<ipython-input-6-2d7ca92295e1>\u001b[0m in \u001b[0;36m<module>\u001b[1;34m\u001b[0m\n\u001b[0;32m      8\u001b[0m \u001b[1;33m\u001b[0m\u001b[0m\n\u001b[0;32m      9\u001b[0m \u001b[1;31m# 元组是不可变类型\u001b[0m\u001b[1;33m\u001b[0m\u001b[1;33m\u001b[0m\u001b[1;33m\u001b[0m\u001b[0m\n\u001b[1;32m---> 10\u001b[1;33m \u001b[0mt1\u001b[0m\u001b[1;33m[\u001b[0m\u001b[1;36m0\u001b[0m\u001b[1;33m]\u001b[0m \u001b[1;33m=\u001b[0m \u001b[1;34m'flink'\u001b[0m\u001b[1;33m\u001b[0m\u001b[1;33m\u001b[0m\u001b[0m\n\u001b[0m\u001b[0;32m     11\u001b[0m \u001b[1;33m\u001b[0m\u001b[0m\n\u001b[0;32m     12\u001b[0m \u001b[1;31m#  'tuple' object doesn't support item deletion\u001b[0m\u001b[1;33m\u001b[0m\u001b[1;33m\u001b[0m\u001b[1;33m\u001b[0m\u001b[0m\n",
      "\u001b[1;31mTypeError\u001b[0m: 'tuple' object does not support item assignment"
     ]
    }
   ],
   "source": [
    "t1 = ('python',12,'spark',12.5)\n",
    "\n",
    "# 索引\n",
    "print(t1[0])\n",
    "\n",
    "# 切片\n",
    "print(t1[0:2])\n",
    "\n",
    "# 元组是不可变类型 tuple' object does not support item assignment\n",
    "t1[0] = 'flink'\n",
    "\n",
    "# 元组是不可变类型 'tuple' object doesn't support item deletion\n",
    " del t1[2]"
   ]
  },
  {
   "cell_type": "code",
   "execution_count": 11,
   "metadata": {},
   "outputs": [
    {
     "name": "stdout",
     "output_type": "stream",
     "text": [
      "Chinese\n",
      "Math\n",
      "Sport\n",
      "95\n",
      "99\n",
      "90\n",
      "元素最大的是: 76\n"
     ]
    },
    {
     "data": {
      "text/plain": [
       "tuple"
      ]
     },
     "execution_count": 11,
     "metadata": {},
     "output_type": "execute_result"
    }
   ],
   "source": [
    "t1 = ('Chinese','Math','Sport',95,99,90)\n",
    "\n",
    "# 遍历\n",
    "for item in t1:\n",
    "    print(item)\n",
    "\n",
    "# 计算元素的个数\n",
    "len(t1)    \n",
    "\n",
    "print('元素最大的是:',max((12,5,76,32)))\n",
    "\n",
    "# 查看类型\n",
    "type(t1)"
   ]
  },
  {
   "cell_type": "code",
   "execution_count": 14,
   "metadata": {},
   "outputs": [
    {
     "name": "stdout",
     "output_type": "stream",
     "text": [
      "<class 'list'>\n",
      "<class 'tuple'>\n"
     ]
    }
   ],
   "source": [
    "# 类型转化\n",
    "t1 = ['Chinese','Math','Sport',95,99,90]\n",
    "\n",
    "print(type(t1))\n",
    "\n",
    "tuple(t1)\n",
    "\n",
    "print(type(tuple(t1)))"
   ]
  },
  {
   "cell_type": "code",
   "execution_count": 24,
   "metadata": {},
   "outputs": [
    {
     "name": "stdout",
     "output_type": "stream",
     "text": [
      "12\n",
      "[1, 2]\n"
     ]
    },
    {
     "ename": "KeyError",
     "evalue": "'xx'",
     "output_type": "error",
     "traceback": [
      "\u001b[1;31m---------------------------------------------------------------------------\u001b[0m",
      "\u001b[1;31mKeyError\u001b[0m                                  Traceback (most recent call last)",
      "\u001b[1;32m<ipython-input-24-c01ce2f5a5ad>\u001b[0m in \u001b[0;36m<module>\u001b[1;34m\u001b[0m\n\u001b[0;32m     12\u001b[0m \u001b[1;33m\u001b[0m\u001b[0m\n\u001b[0;32m     13\u001b[0m \u001b[1;31m# 访问不存在的key\u001b[0m\u001b[1;33m\u001b[0m\u001b[1;33m\u001b[0m\u001b[1;33m\u001b[0m\u001b[0m\n\u001b[1;32m---> 14\u001b[1;33m \u001b[0mprint\u001b[0m\u001b[1;33m(\u001b[0m\u001b[0md1\u001b[0m\u001b[1;33m[\u001b[0m\u001b[1;34m'xx'\u001b[0m\u001b[1;33m]\u001b[0m\u001b[1;33m)\u001b[0m\u001b[1;33m\u001b[0m\u001b[1;33m\u001b[0m\u001b[0m\n\u001b[0m",
      "\u001b[1;31mKeyError\u001b[0m: 'xx'"
     ]
    }
   ],
   "source": [
    "# 字典\n",
    "d1 = {'spark':12,'python':'pyspark',2:'flink'}\n",
    "\n",
    "d2 = {'hello':[1,2,3]}\n",
    "\n",
    "type(d1)\n",
    "\n",
    "# 根据key来获取vlaue\n",
    "print(d1['spark'])\n",
    "\n",
    "print(d2['hello'][0:2])\n",
    "\n",
    "# 访问不存在的key 报错KeyError: 'xx'\n",
    "print(d1['xx'])"
   ]
  },
  {
   "cell_type": "code",
   "execution_count": 28,
   "metadata": {},
   "outputs": [
    {
     "name": "stdout",
     "output_type": "stream",
     "text": [
      "修改前: 12\n",
      "修改后: (12, 'hello')\n"
     ]
    }
   ],
   "source": [
    "# 修改key对应的vlaue值\n",
    "d1 = {'spark':12,1:'core',2:'sql',3:'streaming'}\n",
    "\n",
    "print('修改前:',d1['spark'])\n",
    "\n",
    "# 修改\n",
    "d1['spark'] = (12,'hello')\n",
    "\n",
    "print('修改后:',d1['spark'])"
   ]
  },
  {
   "cell_type": "code",
   "execution_count": 29,
   "metadata": {},
   "outputs": [
    {
     "ename": "KeyError",
     "evalue": "'spark'",
     "output_type": "error",
     "traceback": [
      "\u001b[1;31m---------------------------------------------------------------------------\u001b[0m",
      "\u001b[1;31mKeyError\u001b[0m                                  Traceback (most recent call last)",
      "\u001b[1;32m<ipython-input-29-a98073d64435>\u001b[0m in \u001b[0;36m<module>\u001b[1;34m\u001b[0m\n\u001b[0;32m      2\u001b[0m \u001b[0md1\u001b[0m\u001b[1;33m.\u001b[0m\u001b[0mclear\u001b[0m\u001b[1;33m(\u001b[0m\u001b[1;33m)\u001b[0m\u001b[1;33m\u001b[0m\u001b[1;33m\u001b[0m\u001b[0m\n\u001b[0;32m      3\u001b[0m \u001b[1;33m\u001b[0m\u001b[0m\n\u001b[1;32m----> 4\u001b[1;33m \u001b[0mprint\u001b[0m\u001b[1;33m(\u001b[0m\u001b[0md1\u001b[0m\u001b[1;33m[\u001b[0m\u001b[1;34m'spark'\u001b[0m\u001b[1;33m]\u001b[0m\u001b[1;33m)\u001b[0m\u001b[1;33m\u001b[0m\u001b[1;33m\u001b[0m\u001b[0m\n\u001b[0m",
      "\u001b[1;31mKeyError\u001b[0m: 'spark'"
     ]
    }
   ],
   "source": [
    "# 清空字典\n",
    "d1.clear()\n",
    "\n",
    "print(d1['spark'])\n"
   ]
  },
  {
   "cell_type": "code",
   "execution_count": 39,
   "metadata": {},
   "outputs": [
    {
     "name": "stdout",
     "output_type": "stream",
     "text": [
      "d1[spark] 12\n",
      "d1[1] core\n",
      "d1[2] sql\n",
      "d1[3] streaming\n"
     ]
    },
    {
     "data": {
      "text/plain": [
       "'不存在这样的key'"
      ]
     },
     "execution_count": 39,
     "metadata": {},
     "output_type": "execute_result"
    }
   ],
   "source": [
    "# 定义字典\n",
    "d1 = {'spark':12,1:'core',2:'sql',3:'streaming'}\n",
    "\n",
    "# 常见的遍历方式\n",
    "for i in d1:\n",
    "    print('d1[%s]' % i,d1[i])\n",
    "    \n",
    "# 结果是变成一个列表，列表中的每个元素是一个二元组    \n",
    "d1.items()    \n",
    "\n",
    "# 结果是所有key组成的列表\n",
    "d1.keys()\n",
    "\n",
    "# 结果都是value组成的\n",
    "d1.values()\n",
    "\n",
    "\n",
    "# 获取字典元素的个数\n",
    "len(d1)\n",
    "\n",
    "# 判断字典是否包含对应的key\n",
    "'1' in d1\n",
    "\n",
    "# 类似于scala中的getOrElse\n",
    "d1.get('1','不存在这样的key')"
   ]
  },
  {
   "cell_type": "code",
   "execution_count": 47,
   "metadata": {},
   "outputs": [
    {
     "name": "stdout",
     "output_type": "stream",
     "text": [
      "<class 'set'>\n",
      "<class 'set'>\n",
      "6\n",
      "True\n"
     ]
    },
    {
     "data": {
      "text/plain": [
       "{1, 'i', 'k', 'l', 'linux', 'n'}"
      ]
     },
     "execution_count": 47,
     "metadata": {},
     "output_type": "execute_result"
    }
   ],
   "source": [
    "# 空的set集合\n",
    "s1 = set()\n",
    "print(type(s1))\n",
    "\n",
    "s2 = {'allen','bob','lucy','asia'}\n",
    "print(type(s2))\n",
    "\n",
    "# 常见操作\n",
    "s1.add(1)\n",
    "\n",
    "s1.add('linux')\n",
    "\n",
    "s1.update('flink')\n",
    "\n",
    "# update 添加的方式和add不一样，update 将字符串拆分成单个字符添加进去，所以直接移除就报错\n",
    "#s1.remove('flink')\n",
    "\n",
    "s1.discard('flink')\n",
    "\n",
    "s1.remove('f')\n",
    "\n",
    "print(len(s1))\n",
    "\n",
    "print('k' in s1)\n",
    "\n",
    "s1"
   ]
  },
  {
   "cell_type": "code",
   "execution_count": 49,
   "metadata": {},
   "outputs": [
    {
     "name": "stdout",
     "output_type": "stream",
     "text": [
      "表达式为真\n",
      "100\n"
     ]
    }
   ],
   "source": [
    "#  if条件判断\n",
    "\n",
    "a = 100 \n",
    "b = 0\n",
    "\n",
    "# 结合if条件的时候，非0 为True\n",
    "if a:\n",
    "    print('表达式为真')\n",
    "    print(a)\n",
    "\n",
    "\n",
    "# 结合if条件的时候，0 为Fasle\n",
    "if b:\n",
    "    print('表达式为真')\n",
    "    print(b)"
   ]
  },
  {
   "cell_type": "code",
   "execution_count": 51,
   "metadata": {},
   "outputs": [
    {
     "name": "stdout",
     "output_type": "stream",
     "text": [
      "请输入del\n",
      "del\n"
     ]
    }
   ],
   "source": [
    "# 键盘录入对象\n",
    "a = input(\"请输入\")\n",
    "print(a)"
   ]
  },
  {
   "cell_type": "code",
   "execution_count": 55,
   "metadata": {},
   "outputs": [
    {
     "name": "stdout",
     "output_type": "stream",
     "text": [
      "请输入你的级别4\n",
      "\n",
      "你是高手\n"
     ]
    }
   ],
   "source": [
    "level = int(input('请输入你的级别'))\n",
    "print(\"\")\n",
    "\n",
    "if level == 0:\n",
    "    print(\"你是青铜\")\n",
    "elif level == 1:\n",
    "    print('你是白银')\n",
    "elif level == 2:\n",
    "    print('你是黄金')\n",
    "elif level >= 3:\n",
    "    print('你是高手')    \n",
    "else:\n",
    "    print(\"退出游戏\")\n",
    "    "
   ]
  },
  {
   "cell_type": "code",
   "execution_count": 56,
   "metadata": {},
   "outputs": [
    {
     "name": "stdout",
     "output_type": "stream",
     "text": [
      "4950\n"
     ]
    }
   ],
   "source": [
    "# while循环计算 1 到 100 的和\n",
    "n = 100\n",
    "sum = 0\n",
    "i = 0 \n",
    "while i <  100:\n",
    "    sum += i \n",
    "    i += 1\n",
    "\n",
    "print(sum)    "
   ]
  },
  {
   "cell_type": "code",
   "execution_count": 57,
   "metadata": {},
   "outputs": [
    {
     "name": "stdout",
     "output_type": "stream",
     "text": [
      "当前值为: 0\n",
      "当前值为: 1\n",
      "当前值为: 2\n",
      "当前值为: 3\n",
      "当前值为: 4\n",
      "count值已经大于等于5\n"
     ]
    }
   ],
   "source": [
    "# while  结合else\n",
    "count = 0\n",
    "\n",
    "while count <5:\n",
    "    print('当前值为:',count)\n",
    "    count += 1\n",
    "else:\n",
    "    print('count值已经大于等于5')\n",
    "    "
   ]
  },
  {
   "cell_type": "code",
   "execution_count": 62,
   "metadata": {},
   "outputs": [
    {
     "name": "stdout",
     "output_type": "stream",
     "text": [
      "当前网站: ali\n",
      "当前网站: baidu\n",
      "当前网站: goggle\n",
      "淘宝\n",
      "循环结束\n"
     ]
    }
   ],
   "source": [
    "# for循环\n",
    "sites = ['ali','baidu','google','taobao','jindong']\n",
    "\n",
    "for site in sites:\n",
    "    \n",
    "    if site == 'taobao':\n",
    "        print('淘宝')\n",
    "        break\n",
    "       \n",
    "    print('当前网站:',site)    \n",
    "else:\n",
    "    print('没有循环数据')\n",
    "print('循环结束')    "
   ]
  },
  {
   "cell_type": "code",
   "execution_count": 67,
   "metadata": {},
   "outputs": [
    {
     "name": "stdout",
     "output_type": "stream",
     "text": [
      "1,4,7,"
     ]
    }
   ],
   "source": [
    "# range 类似于scala中的range\n",
    "range(10)\n",
    "\n",
    "for i in range(10):\n",
    "    #print(i)\n",
    "    # pass 是python 是一个特殊的存在，表示一个空代码块，为了完成语法需求\n",
    "    pass\n",
    "    \n",
    "# 同样可以指定范围和步长\n",
    "for j in range(1,10,3):\n",
    "    print(j,end=',')\n",
    "\n",
    "    "
   ]
  },
  {
   "cell_type": "code",
   "execution_count": 70,
   "metadata": {},
   "outputs": [
    {
     "name": "stdout",
     "output_type": "stream",
     "text": [
      "range(0, 4)\n",
      "下标为 0 的元素值为: Google\n",
      "下标为 1 的元素值为: Baidu\n",
      "下标为 2 的元素值为: ALi\n",
      "下标为 3 的元素值为: MeiTuan\n"
     ]
    }
   ],
   "source": [
    "sites = ['Google','Baidu','ALi','MeiTuan']\n",
    "\n",
    "print(range(len(sites)))\n",
    "\n",
    "for i in range(len(sites)):\n",
    "    print('下标为 %d 的元素值为: %s' % (i,sites[i]))"
   ]
  },
  {
   "cell_type": "code",
   "execution_count": 74,
   "metadata": {},
   "outputs": [
    {
     "name": "stdout",
     "output_type": "stream",
     "text": [
      "当前字母是 S\n",
      "当前字母是 p\n",
      "当前字母是 a\n"
     ]
    }
   ],
   "source": [
    "# break\n",
    "for letter in 'Spark':\n",
    "    if letter == 'r':\n",
    "        break\n",
    "    print('当前字母是',letter)\n",
    "    \n",
    "\n",
    "\n"
   ]
  },
  {
   "cell_type": "code",
   "execution_count": 73,
   "metadata": {},
   "outputs": [
    {
     "name": "stdout",
     "output_type": "stream",
     "text": [
      "当前字母是 S\n",
      "当前字母是 p\n",
      "当前字母是 a\n",
      "当前字母是 k\n"
     ]
    }
   ],
   "source": [
    "# continue\n",
    "for letter in 'Spark':\n",
    "    if letter == 'r':\n",
    "        continue\n",
    "    print('当前字母是',letter)"
   ]
  },
  {
   "cell_type": "code",
   "execution_count": 84,
   "metadata": {},
   "outputs": [
    {
     "name": "stdout",
     "output_type": "stream",
     "text": [
      "welcome to python\n",
      "Hello  2 you are 12 years old\n",
      "Hello  2 you are 12 years old\n",
      "<class 'NoneType'>\n"
     ]
    }
   ],
   "source": [
    "# 定义函数\n",
    "def hello():\n",
    "    print(\"welcome to python\")\n",
    "\n",
    "# 调用的时候，空参也要加上()    \n",
    "hello() \n",
    "\n",
    "# 空参打印的是函数的地址值\n",
    "#print(hello)\n",
    "\n",
    "\n",
    "def sayHello(a,b):\n",
    "    print(\"Hello \",a,'you are',b,'years old')\n",
    "    \n",
    "sayHello(2,'12')\n",
    "\n",
    "print(type(sayHello(2,'12')))"
   ]
  },
  {
   "cell_type": "code",
   "execution_count": 83,
   "metadata": {},
   "outputs": [
    {
     "name": "stdout",
     "output_type": "stream",
     "text": [
      "<class 'int'>\n",
      "<class 'float'>\n"
     ]
    }
   ],
   "source": [
    "# 返回类型\n",
    "def area(long,width):\n",
    "    return long * width\n",
    "\n",
    "print(type(area(2,3)))\n",
    "\n",
    "print(type(area(2.5,3)))\n",
    "\n",
    "\n",
    "\n"
   ]
  },
  {
   "cell_type": "code",
   "execution_count": 86,
   "metadata": {},
   "outputs": [
    {
     "name": "stdout",
     "output_type": "stream",
     "text": [
      "Help on built-in function abs in module builtins:\n",
      "\n",
      "abs(x, /)\n",
      "    Return the absolute value of the argument.\n",
      "\n"
     ]
    }
   ],
   "source": [
    "abs(-2)\n",
    "# 查看帮助文档\n",
    "help(abs)"
   ]
  },
  {
   "cell_type": "code",
   "execution_count": 90,
   "metadata": {},
   "outputs": [
    {
     "name": "stdout",
     "output_type": "stream",
     "text": [
      "<class 'set'>\n",
      "<class 'str'>\n"
     ]
    }
   ],
   "source": [
    "# set集合转成列表\n",
    "a = {'a','a','b','hello',1,1}\n",
    "\n",
    "print(type(a))\n",
    "\n",
    "type(list(a))\n",
    "\n",
    "b = \"hello\"\n",
    "\n",
    "print(type(b))\n"
   ]
  },
  {
   "cell_type": "code",
   "execution_count": 92,
   "metadata": {},
   "outputs": [
    {
     "data": {
      "text/plain": [
       "9"
      ]
     },
     "execution_count": 92,
     "metadata": {},
     "output_type": "execute_result"
    }
   ],
   "source": [
    "# 位置参数/必要参数\n",
    "def power(n):\n",
    "    return n**2\n",
    "\n",
    "power(3)\n"
   ]
  },
  {
   "cell_type": "code",
   "execution_count": 94,
   "metadata": {},
   "outputs": [
    {
     "ename": "TypeError",
     "evalue": "power() missing 1 required positional argument: 'm'",
     "output_type": "error",
     "traceback": [
      "\u001b[1;31m---------------------------------------------------------------------------\u001b[0m",
      "\u001b[1;31mTypeError\u001b[0m                                 Traceback (most recent call last)",
      "\u001b[1;32m<ipython-input-94-69811a55611a>\u001b[0m in \u001b[0;36m<module>\u001b[1;34m\u001b[0m\n\u001b[0;32m      1\u001b[0m \u001b[1;32mdef\u001b[0m \u001b[0mpower\u001b[0m\u001b[1;33m(\u001b[0m\u001b[0mn\u001b[0m\u001b[1;33m,\u001b[0m\u001b[0mm\u001b[0m\u001b[1;33m)\u001b[0m\u001b[1;33m:\u001b[0m\u001b[1;33m\u001b[0m\u001b[1;33m\u001b[0m\u001b[0m\n\u001b[0;32m      2\u001b[0m     \u001b[1;32mreturn\u001b[0m \u001b[0mn\u001b[0m\u001b[1;33m**\u001b[0m\u001b[0mm\u001b[0m\u001b[1;33m\u001b[0m\u001b[1;33m\u001b[0m\u001b[0m\n\u001b[1;32m----> 3\u001b[1;33m \u001b[0mpower\u001b[0m\u001b[1;33m(\u001b[0m\u001b[1;36m2\u001b[0m\u001b[1;33m)\u001b[0m\u001b[1;33m\u001b[0m\u001b[1;33m\u001b[0m\u001b[0m\n\u001b[0m",
      "\u001b[1;31mTypeError\u001b[0m: power() missing 1 required positional argument: 'm'"
     ]
    }
   ],
   "source": [
    "# 调用的时候，必要参数，个数和顺序必须和函数声明的时候保持一致\n",
    "def power(n,m):\n",
    "    return n**m\n",
    "power(2,3)"
   ]
  },
  {
   "cell_type": "code",
   "execution_count": 97,
   "metadata": {},
   "outputs": [
    {
     "name": "stdout",
     "output_type": "stream",
     "text": [
      "姓名: Bob\n",
      "年龄: 12\n"
     ]
    }
   ],
   "source": [
    "# 带名传参 /关键字参数\n",
    "def printInfo(name,age):\n",
    "    print(\"姓名:\",name)\n",
    "    print('年龄:',age)\n",
    "\n",
    "printInfo(age=12,name='Bob')    "
   ]
  },
  {
   "cell_type": "code",
   "execution_count": 99,
   "metadata": {},
   "outputs": [
    {
     "name": "stdout",
     "output_type": "stream",
     "text": [
      "姓名: Bob\n",
      "眼睛: 2\n",
      "姓名: Allen\n",
      "眼睛: 4\n"
     ]
    }
   ],
   "source": [
    "# 默认值\n",
    "def printInfo(name,eyes=2):\n",
    "    print(\"姓名:\",name)\n",
    "    print('眼睛:',eyes)\n",
    "\n",
    "printInfo(name='Bob') \n",
    "\n",
    "printInfo('Allen',4)"
   ]
  },
  {
   "cell_type": "code",
   "execution_count": 101,
   "metadata": {},
   "outputs": [
    {
     "name": "stdout",
     "output_type": "stream",
     "text": [
      "年级： 2\n",
      "课程: ('Chinese', 'Math', 'Sport')\n",
      "年级： 3\n",
      "课程: ()\n"
     ]
    }
   ],
   "source": [
    "def printCourse(grade,*course):\n",
    "    print(\"年级：\",grade)\n",
    "    print('课程:',course)\n",
    "\n",
    "printCourse(2,'Chinese','Math','Sport')  \n",
    "\n",
    "printCourse(3)\n"
   ]
  },
  {
   "cell_type": "code",
   "execution_count": 103,
   "metadata": {},
   "outputs": [
    {
     "name": "stdout",
     "output_type": "stream",
     "text": [
      "年级： 4\n",
      "课程: {'a1': '语文', 'a2': '数学', 'c1': 2, 'c2': 4}\n"
     ]
    }
   ],
   "source": [
    "def printCourse(grade,**course):\n",
    "    print(\"年级：\",grade)\n",
    "    print('课程:',course)\n",
    "\n",
    "printCourse(4,a1='语文',a2='数学',c1=2,c2=4)    "
   ]
  },
  {
   "cell_type": "code",
   "execution_count": 116,
   "metadata": {},
   "outputs": [
    {
     "name": "stdout",
     "output_type": "stream",
     "text": [
      "1\n",
      "4\n",
      "9\n",
      "16\n",
      "25\n"
     ]
    },
    {
     "data": {
      "text/plain": [
       "[]"
      ]
     },
     "execution_count": 116,
     "metadata": {},
     "output_type": "execute_result"
    }
   ],
   "source": [
    "def f(x):\n",
    "    return x**2\n",
    "\n",
    "a = [1,2,3,4,5]\n",
    "\n",
    "# 高阶函数map\n",
    "b = map(f,[1,2,3,4,5])\n",
    "\n",
    "for i in b:\n",
    "    print(i)\n",
    "    \n",
    "\n",
    "list(b)"
   ]
  },
  {
   "cell_type": "code",
   "execution_count": 119,
   "metadata": {},
   "outputs": [
    {
     "name": "stdout",
     "output_type": "stream",
     "text": [
      "0\n",
      "2\n",
      "4\n",
      "6\n",
      "8\n"
     ]
    }
   ],
   "source": [
    "def f(x):\n",
    "    return x % 2 == 0\n",
    "\n",
    "c = range(10)\n",
    "\n",
    "\n",
    "\n",
    "d = filter(f,c)\n",
    "\n",
    "for i in d:\n",
    "    print(i)"
   ]
  },
  {
   "cell_type": "code",
   "execution_count": 124,
   "metadata": {},
   "outputs": [
    {
     "name": "stdout",
     "output_type": "stream",
     "text": [
      "['Small', 'allen', 'but', 'jack', 'zora']\n"
     ]
    },
    {
     "data": {
      "text/plain": [
       "['allen', 'but', 'jack', 'Small', 'zora']"
      ]
     },
     "execution_count": 124,
     "metadata": {},
     "output_type": "execute_result"
    }
   ],
   "source": [
    "sorted([12,3,4,42,13])\n",
    "\n",
    "print(sorted(['allen','zora','Small','but','jack']))\n",
    "\n",
    "sorted(['allen','zora','Small','but','jack'],key=str.lower)"
   ]
  },
  {
   "cell_type": "code",
   "execution_count": 126,
   "metadata": {},
   "outputs": [
    {
     "name": "stdout",
     "output_type": "stream",
     "text": [
      "[('linxu', 2), ('hive', 4), ('spark', 5), ('python', 7)]\n"
     ]
    },
    {
     "data": {
      "text/plain": [
       "[('python', 7), ('spark', 5), ('hive', 4), ('linxu', 2)]"
      ]
     },
     "execution_count": 126,
     "metadata": {},
     "output_type": "execute_result"
    }
   ],
   "source": [
    "def bySoure(t):\n",
    "    return t[1]\n",
    "\n",
    "a = sorted([('spark',5),('linxu',2),('python',7),('hive',4)],key=bySoure)\n",
    "print(a)\n",
    "\n",
    "sorted([('spark',5),('linxu',2),('python',7),('hive',4)],key=bySoure,reverse=True)"
   ]
  },
  {
   "cell_type": "code",
   "execution_count": 129,
   "metadata": {},
   "outputs": [
    {
     "name": "stdout",
     "output_type": "stream",
     "text": [
      "sum 和是: 9\n",
      "奇偶性: False\n",
      "2倍数: 8\n"
     ]
    }
   ],
   "source": [
    "# lambda 表达式\n",
    "sum = lambda a,b:a+b\n",
    "print('sum 和是:',sum(4,5))\n",
    "\n",
    "even = lambda n: n % 2 == 0\n",
    "print(\"奇偶性:\",even(3))\n",
    "\n",
    "multi2 = lambda n: n*2\n",
    "print('2倍数:',multi2(4))"
   ]
  },
  {
   "cell_type": "code",
   "execution_count": 130,
   "metadata": {},
   "outputs": [
    {
     "data": {
      "text/plain": [
       "['api_version',\n",
       " 'argv',\n",
       " 'base_exec_prefix',\n",
       " 'base_prefix',\n",
       " 'breakpointhook',\n",
       " 'builtin_module_names',\n",
       " 'byteorder',\n",
       " 'call_tracing',\n",
       " 'callstats',\n",
       " 'copyright',\n",
       " 'displayhook',\n",
       " 'dllhandle',\n",
       " 'dont_write_bytecode',\n",
       " 'exc_info',\n",
       " 'excepthook',\n",
       " 'exec_prefix',\n",
       " 'executable',\n",
       " 'exit',\n",
       " 'flags',\n",
       " 'float_info',\n",
       " 'float_repr_style',\n",
       " 'get_asyncgen_hooks',\n",
       " 'get_coroutine_origin_tracking_depth',\n",
       " 'get_coroutine_wrapper',\n",
       " 'getallocatedblocks',\n",
       " 'getcheckinterval',\n",
       " 'getdefaultencoding',\n",
       " 'getfilesystemencodeerrors',\n",
       " 'getfilesystemencoding',\n",
       " 'getprofile',\n",
       " 'getrecursionlimit',\n",
       " 'getrefcount',\n",
       " 'getsizeof',\n",
       " 'getswitchinterval',\n",
       " 'gettrace',\n",
       " 'getwindowsversion',\n",
       " 'hash_info',\n",
       " 'hexversion',\n",
       " 'implementation',\n",
       " 'int_info',\n",
       " 'intern',\n",
       " 'is_finalizing',\n",
       " 'last_traceback',\n",
       " 'last_type',\n",
       " 'last_value',\n",
       " 'maxsize',\n",
       " 'maxunicode',\n",
       " 'meta_path',\n",
       " 'modules',\n",
       " 'path',\n",
       " 'path_hooks',\n",
       " 'path_importer_cache',\n",
       " 'platform',\n",
       " 'prefix',\n",
       " 'ps1',\n",
       " 'ps2',\n",
       " 'ps3',\n",
       " 'set_asyncgen_hooks',\n",
       " 'set_coroutine_origin_tracking_depth',\n",
       " 'set_coroutine_wrapper',\n",
       " 'setcheckinterval',\n",
       " 'setprofile',\n",
       " 'setrecursionlimit',\n",
       " 'setswitchinterval',\n",
       " 'settrace',\n",
       " 'stderr',\n",
       " 'stdin',\n",
       " 'stdout',\n",
       " 'thread_info',\n",
       " 'version',\n",
       " 'version_info',\n",
       " 'warnoptions',\n",
       " 'winver']"
      ]
     },
     "execution_count": 130,
     "metadata": {},
     "output_type": "execute_result"
    }
   ],
   "source": [
    "import sys\n",
    "\n",
    "# 列表推导式\n",
    "[e for e in dir(sys) if not e.startswith('_')]"
   ]
  },
  {
   "cell_type": "code",
   "execution_count": 133,
   "metadata": {},
   "outputs": [
    {
     "name": "stdout",
     "output_type": "stream",
     "text": [
      "2019-10-19\n"
     ]
    },
    {
     "data": {
      "text/plain": [
       "['MAXYEAR',\n",
       " 'MINYEAR',\n",
       " '__builtins__',\n",
       " '__cached__',\n",
       " '__doc__',\n",
       " '__file__',\n",
       " '__loader__',\n",
       " '__name__',\n",
       " '__package__',\n",
       " '__spec__',\n",
       " 'date',\n",
       " 'datetime',\n",
       " 'datetime_CAPI',\n",
       " 'sys',\n",
       " 'time',\n",
       " 'timedelta',\n",
       " 'timezone',\n",
       " 'tzinfo']"
      ]
     },
     "execution_count": 133,
     "metadata": {},
     "output_type": "execute_result"
    }
   ],
   "source": [
    "import numpy as ny\n",
    "\n",
    "from  datetime import date\n",
    "\n",
    "print(date.today())\n",
    "\n",
    "dir(datetime)"
   ]
  },
  {
   "cell_type": "code",
   "execution_count": 143,
   "metadata": {},
   "outputs": [
    {
     "name": "stdout",
     "output_type": "stream",
     "text": [
      "allen\n"
     ]
    }
   ],
   "source": [
    "class Person:\n",
    "# 下面定义了一个类属性\n",
    "    eyes = 2\n",
    "# 下面定义了一个say方法\n",
    "    def sayHello(self, content):\n",
    "        print(content)\n",
    "    \n",
    "# 类的实例化,后面一定要将 () 写上，可以理解无参构造\n",
    "p1 = Person()\n",
    "\n",
    "\n",
    "p1.eyes\n",
    "\n",
    "p1.sayHello(\"allen\")\n"
   ]
  },
  {
   "cell_type": "code",
   "execution_count": 145,
   "metadata": {},
   "outputs": [
    {
     "name": "stdout",
     "output_type": "stream",
     "text": [
      "调用构造方方法\n"
     ]
    }
   ],
   "source": [
    "# __init__(self) 才是构造方法，实例化的时候自动调用，\n",
    "# 必须包含一个self参数，而且是第一个位置\n",
    "class Person:\n",
    "    '''这是学习python定义的一个Person类'''\n",
    "    def __init__(self):\n",
    "           print('调用构造方方法')\n",
    "                        \n",
    "p2 = Person()                "
   ]
  },
  {
   "cell_type": "code",
   "execution_count": 146,
   "metadata": {},
   "outputs": [
    {
     "name": "stdout",
     "output_type": "stream",
     "text": [
      "这个人的姓名是 allen 年龄为: 12\n"
     ]
    }
   ],
   "source": [
    "# 这个可以理解为带参构造\n",
    "class Person:\n",
    "    '''这是一个学习Python定义的一个Person类'''\n",
    "    def __init__(self,name,age):\n",
    "        print('这个人的姓名是',name,\"年龄为:\",age)\n",
    "\n",
    "p3 = Person('allen',12)        "
   ]
  },
  {
   "cell_type": "code",
   "execution_count": 153,
   "metadata": {},
   "outputs": [
    {
     "name": "stdout",
     "output_type": "stream",
     "text": [
      "这个人的名字是： 张三  年龄为： 20\n",
      "张三\n",
      "zhangsan\n",
      "修改后再次访问 Rose\n",
      "李四\n"
     ]
    }
   ],
   "source": [
    "class Person :\n",
    "    '''这是一个学习Python定义的一个Person类'''\n",
    "    # 下面定义了2个类变量\n",
    "    name = \"zhangsan\"\n",
    "    age = \"20\"\n",
    "    \n",
    "    def __init__(self,name,age):\n",
    "        #下面定义 2 个实例变量\n",
    "        self.name = name\n",
    "        self.age = age\n",
    "        print(\"这个人的名字是：\",name,\" 年龄为：\",age)\n",
    "        \n",
    "    # 下面定义了一个say实例方法\n",
    "    def sayHello(self, content):\n",
    "        print(content)\n",
    "            \n",
    "# 将该Person对象赋给p变量       \n",
    "p = Person(\"张三\",20)\n",
    "\n",
    "# 访问实例变量，也就是类被实例化之后的值\n",
    "print(p.name)\n",
    "\n",
    "# 直接通过类访问类变量，不被实例化的类的属性\n",
    "print(Person.name)\n",
    "\n",
    "# 也可以修改类属性，也就是类变量的值\n",
    "Person.name = 'Rose'\n",
    "print('修改后再次访问',Person.name)\n",
    "\n",
    "p.name = \"李四\"\n",
    "print(p.name)"
   ]
  },
  {
   "cell_type": "code",
   "execution_count": 156,
   "metadata": {},
   "outputs": [
    {
     "name": "stdout",
     "output_type": "stream",
     "text": [
      "<__main__.Dog object at 0x0000028EC07EDA58> 在调用构造方法\n",
      "<__main__.Dog object at 0x0000028EC07EDA58> 正在执行jump方法\n",
      "<__main__.Dog object at 0x0000028EC07EDA58> 正在执行run方法\n",
      "<__main__.Dog object at 0x0000028EC07E93C8> 在调用构造方法\n",
      "<__main__.Dog object at 0x0000028EC07E93C8> 正在执行jump方法\n",
      "<__main__.Dog object at 0x0000028EC07E93C8> 正在执行run方法\n"
     ]
    }
   ],
   "source": [
    "class Dog:\n",
    "    def __init__(self):\n",
    "        print(self,\"在调用构造方法\")\n",
    "        \n",
    "    # 定义一个jump()方法\n",
    "    def jump(self):\n",
    "        print(self,\"正在执行jump方法\")\n",
    "\n",
    "    # 定义一个run()方法，run()方法需要借助jump()方法\n",
    "    def run(self):\n",
    "        self.jump()\n",
    "        print(self,\"正在执行run方法\")\n",
    "        \n",
    "    \n",
    "dog1 = Dog()\n",
    "dog1.run()\n",
    "dog2 = Dog()\n",
    "dog2.run()"
   ]
  },
  {
   "cell_type": "code",
   "execution_count": 158,
   "metadata": {},
   "outputs": [
    {
     "name": "stdout",
     "output_type": "stream",
     "text": [
      "上海浦东\n",
      "201200\n",
      "上海浦东\n",
      "201200\n",
      "杨浦\n",
      "200003\n",
      "杨浦\n",
      "200003\n"
     ]
    }
   ],
   "source": [
    "# 注意，类变量推荐直接用类名访问，但也可以使用对象名访问。\n",
    "class Address :\n",
    "    detail = '上海浦东'\n",
    "    post_code = '201200'\n",
    "    def info (self):\n",
    "        # 尝试直接访问类变量\n",
    "        #print(detail) # 报错\n",
    "        # 通过类来访问类变量\n",
    "        print(Address.detail) # 输出 上海浦东\n",
    "        print(Address.post_code) # 输出 201200\n",
    "        \n",
    "        \n",
    "#创建 2 个类对象\n",
    "addr1 = Address()\n",
    "addr1.info()\n",
    "\n",
    "addr2 = Address()\n",
    "addr2.info()\n",
    "# 修改Address类的类变量\n",
    "Address.detail = '杨浦'\n",
    "Address.post_code = '200003'\n",
    "addr1.info()\n",
    "addr2.info()"
   ]
  },
  {
   "cell_type": "code",
   "execution_count": 166,
   "metadata": {},
   "outputs": [
    {
     "name": "stdout",
     "output_type": "stream",
     "text": [
      "allen\n",
      "20\n",
      "示范隐藏的hide方法\n"
     ]
    }
   ],
   "source": [
    "class User:\n",
    "    # 私有化，隐藏\n",
    "    __sex = 'Male'\n",
    "    \n",
    "    def __hide(self):\n",
    "        print('示范隐藏的hide方法')\n",
    "        \n",
    "    # 私有化类属性 name\n",
    "    def getname(self):\n",
    "        return self.__name\n",
    "    \n",
    "    def setname(self,name):\n",
    "        if len(name) <3 or len(name) >8:\n",
    "            raise ValueError('用户名长度必须在3~8 之间')\n",
    "        self.__name = name\n",
    "        \n",
    "    name = property(getname,setname)\n",
    "\n",
    "    # 私有化类属性 age\n",
    "    def getage(self):\n",
    "        return self.__age\n",
    "   \n",
    "    def setage(self,age):\n",
    "        if age <18 or age > 70:\n",
    "            raise ValueError('用户年龄必须在18到70岁之间')\n",
    "        self.__age = age\n",
    "        \n",
    "    age = property(getage,setage)\n",
    "\n",
    "# 创建User对象\n",
    "u = User()\n",
    "\n",
    "# 实例对象无法访问\n",
    "# u.__age\n",
    "\n",
    "# 'User' object has no attribute '__hide'\n",
    "# u.__hide()\n",
    "\n",
    "u.name = 'allen'\n",
    "u.age = 20\n",
    "\n",
    "print(u.name)\n",
    "print(u.age)\n",
    "\n",
    "u._User__hide()\n"
   ]
  },
  {
   "cell_type": "code",
   "execution_count": 170,
   "metadata": {},
   "outputs": [
    {
     "name": "stdout",
     "output_type": "stream",
     "text": [
      "这是一个水果！重78.6克\n",
      "不同食物的口感不同\n"
     ]
    }
   ],
   "source": [
    "class Fruit:\n",
    "    weight = 0\n",
    "    def info(self):\n",
    "        print(\"这是一个水果！重%g克\" % self.weight)\n",
    "\n",
    "class Food:\n",
    "    def taste(self):\n",
    "        print(\"不同食物的口感不同\")\n",
    "        \n",
    "        \n",
    " # 定义 Orange类，继承了Fruit和Food类\n",
    "class Orange(Fruit, Food):\n",
    "    pass\n",
    "\n",
    "# 创建 Orange对象\n",
    "a = Orange()\n",
    "a.weight = 78.6\n",
    "\n",
    "# 调用Orange对象的info()方法\n",
    "a.info()\n",
    "# 调用Orange对象的taste()方法\n",
    "a.taste()"
   ]
  },
  {
   "cell_type": "code",
   "execution_count": 171,
   "metadata": {},
   "outputs": [
    {
     "name": "stdout",
     "output_type": "stream",
     "text": [
      "Component中方法: 这是一个商品\n"
     ]
    }
   ],
   "source": [
    "# 定义第一个父类\n",
    "class Component:\n",
    "    def info (self):\n",
    "        print(\"Component中方法:\", '这是一个商品')\n",
    "\n",
    "# 定义第二个父类        \n",
    "class Computer:\n",
    "    def info (self):\n",
    "        print(\"Computer中方法:\", '这是一个工业产品')\n",
    "\n",
    "# 继承两个父类\n",
    "class Mouse( Component, Computer): \n",
    "    pass\n",
    "\n",
    "m = Mouse()\n",
    "m.info()"
   ]
  },
  {
   "cell_type": "code",
   "execution_count": 173,
   "metadata": {},
   "outputs": [
    {
     "name": "stdout",
     "output_type": "stream",
     "text": [
      "金毛正在叫...\n",
      "<__main__.Golden object at 0x0000028EBED101D0>\n"
     ]
    }
   ],
   "source": [
    "class Dog:\n",
    "    # Dog类的barking()方法\n",
    "    def barking(self):\n",
    "        print(\"所有的狗都会叫...\")\n",
    "        \n",
    "class Golden(Dog):\n",
    "    # 重写Dog类的barking()方法\n",
    "    def barking(self):\n",
    "        print(\"金毛正在叫...\")\n",
    "\n",
    "# 创建Golden对象\n",
    "gr = Golden()\n",
    "# 执行Golden对象的barking方法，将输出\"金毛正在叫...\"\n",
    "gr.barking()\n",
    "\n",
    "print(gr)"
   ]
  },
  {
   "cell_type": "code",
   "execution_count": 174,
   "metadata": {},
   "outputs": [
    {
     "name": "stdout",
     "output_type": "stream",
     "text": [
      "Apple[color=红色, weight=5.68]\n"
     ]
    }
   ],
   "source": [
    "class Apple:\n",
    "    # 实现构造器\n",
    "    def __init__(self, color, weight):\n",
    "        self.color = color\n",
    "        self.weight = weight\n",
    "    \n",
    "    # 重写__repr__方法，用于实现Apple对象的“自我描述”\n",
    "    def __repr__(self):\n",
    "        return \"Apple[color=\" + self.color +\\\n",
    "       \", weight=\" + str(self.weight) + \"]\"\n",
    "    \n",
    "a = Apple(\"红色\" , 5.68)\n",
    "# 打印Apple对象\n",
    "print(a)"
   ]
  },
  {
   "cell_type": "code",
   "execution_count": 175,
   "metadata": {},
   "outputs": [
    {
     "name": "stdout",
     "output_type": "stream",
     "text": [
      "['name', 'price', '__module__', '__init__', 'info', '__dict__', '__weakref__', '__doc__', '__repr__', '__hash__', '__str__', '__getattribute__', '__setattr__', '__delattr__', '__lt__', '__le__', '__eq__', '__ne__', '__gt__', '__ge__', '__new__', '__reduce_ex__', '__reduce__', '__subclasshook__', '__init_subclass__', '__format__', '__sizeof__', '__dir__', '__class__']\n",
      "['__class__', '__delattr__', '__dict__', '__dir__', '__doc__', '__eq__', '__format__', '__ge__', '__getattribute__', '__gt__', '__hash__', '__init__', '__init_subclass__', '__le__', '__lt__', '__module__', '__ne__', '__new__', '__reduce__', '__reduce_ex__', '__repr__', '__setattr__', '__sizeof__', '__str__', '__subclasshook__', '__weakref__', 'info', 'name', 'price']\n"
     ]
    }
   ],
   "source": [
    "class Item:\n",
    "    def __init__ (self, name, price):\n",
    "        self.name = name\n",
    "        self.price = price\n",
    "    def info ():\n",
    "        pass\n",
    "# 创建一个Item对象，将之赋给im变量\n",
    "im = Item('鼠标', 29.8)\n",
    "print(im.__dir__())  # 返回所有属性（包括方法）组成列表\n",
    "print(dir(im))  # 返回所有属性（包括方法）排序之后的列表"
   ]
  },
  {
   "cell_type": "code",
   "execution_count": 176,
   "metadata": {},
   "outputs": [
    {
     "name": "stdout",
     "output_type": "stream",
     "text": [
      "{'name': '鼠标', 'price': 28.9}\n",
      "鼠标\n",
      "28.9\n",
      "键盘\n",
      "32.8\n"
     ]
    }
   ],
   "source": [
    "class Item:\n",
    "    def __init__ (self, name, price):\n",
    "        self.name = name\n",
    "        self.price = price\n",
    "        \n",
    "im = Item('鼠标', 28.9)\n",
    "print(im.__dict__)  # ①\n",
    "# 通过__dict__访问name属性\n",
    "print(im.__dict__['name'])\n",
    "# 通过__dict__访问price属性\n",
    "print(im.__dict__['price'])\n",
    "im.__dict__['name'] = '键盘'\n",
    "im.__dict__['price'] = 32.8\n",
    "print(im.name) # 键盘\n",
    "print(im.price) # 32.8"
   ]
  },
  {
   "cell_type": "code",
   "execution_count": 177,
   "metadata": {},
   "outputs": [
    {
     "name": "stdout",
     "output_type": "stream",
     "text": [
      "True\n",
      "True\n",
      "True\n",
      "疯狂Python讲义很不错\n",
      "20\n",
      "天气不错\n",
      "32\n"
     ]
    }
   ],
   "source": [
    "class Comment:\n",
    "    def __init__ (self, detail, view_times):\n",
    "        self.detail = detail\n",
    "        self.view_times = view_times\n",
    "        \n",
    "    def info ():\n",
    "        print(\"一条简单的评论，内容是%s\" % self.detail)\n",
    "  \n",
    "\n",
    "python社区 = Comment('疯狂Python讲义很不错', 20)\n",
    "# 判断是否包含指定的属性或方法\n",
    "print(hasattr(python社区, 'detail')) # True\n",
    "print(hasattr(python社区, 'view_times')) # True\n",
    "print(hasattr(python社区, 'info')) # True\n",
    "# 获取指定属性的属性值\n",
    "print(getattr(python社区, 'detail')) # '疯狂Python讲义很不错'\n",
    "print(getattr(python社区, 'view_times')) # 20\n",
    "# 由于info是方法，故下面代码会提示：name 'info' is not defined\n",
    "#print(getattr(python社区, info, '默认值'))\n",
    "# 为指定属性设置属性值\n",
    "setattr(python社区, 'detail', '天气不错')\n",
    "setattr(python社区, 'view_times', 32)\n",
    "# 输出重新设置后的属性值\n",
    "print(python社区.detail)\n",
    "print(python社区.view_times)"
   ]
  },
  {
   "cell_type": "code",
   "execution_count": 196,
   "metadata": {},
   "outputs": [
    {
     "name": "stdout",
     "output_type": "stream",
     "text": [
      "--------------\n"
     ]
    }
   ],
   "source": [
    "class Item:\n",
    "    def __init__ (self, name, price):\n",
    "        self.name = name\n",
    "        self.price = price\n",
    "    \n",
    "    # 定义析构函数\n",
    "    def __del__ (self):\n",
    "        print('del删除对象')\n",
    "\n",
    "# 创建一个Item对象，将之赋给im变量\n",
    "bm = Item('鼠标', 29.8)\n",
    "n = bm   # ①\n",
    "\n",
    "# 打印im所引用的Item对象\n",
    "\n",
    "del bm\n",
    "print('--------------')"
   ]
  },
  {
   "cell_type": "code",
   "execution_count": 205,
   "metadata": {},
   "outputs": [
    {
     "name": "stdout",
     "output_type": "stream",
     "text": [
      "程序出现异常: a的值大于0，不符合要求\n"
     ]
    },
    {
     "ename": "ValueError",
     "evalue": "a的值大于0，不符合要求",
     "output_type": "error",
     "traceback": [
      "\u001b[1;31m---------------------------------------------------------------------------\u001b[0m",
      "\u001b[1;31mValueError\u001b[0m                                Traceback (most recent call last)",
      "\u001b[1;32m<ipython-input-205-d267b13f1e06>\u001b[0m in \u001b[0;36mmain\u001b[1;34m()\u001b[0m\n\u001b[0;32m      4\u001b[0m         \u001b[1;31m# 此时即使程序出现异常，也不会传播给main函数,第一次触发异常\u001b[0m\u001b[1;33m\u001b[0m\u001b[1;33m\u001b[0m\u001b[1;33m\u001b[0m\u001b[0m\n\u001b[1;32m----> 5\u001b[1;33m         \u001b[0mmtd\u001b[0m\u001b[1;33m(\u001b[0m\u001b[1;36m3\u001b[0m\u001b[1;33m)\u001b[0m\u001b[1;33m\u001b[0m\u001b[1;33m\u001b[0m\u001b[0m\n\u001b[0m\u001b[0;32m      6\u001b[0m     \u001b[1;32mexcept\u001b[0m \u001b[0mException\u001b[0m \u001b[1;32mas\u001b[0m \u001b[0me\u001b[0m\u001b[1;33m:\u001b[0m\u001b[1;33m\u001b[0m\u001b[1;33m\u001b[0m\u001b[0m\n",
      "\u001b[1;32m<ipython-input-205-d267b13f1e06>\u001b[0m in \u001b[0;36mmtd\u001b[1;34m(a)\u001b[0m\n\u001b[0;32m     12\u001b[0m     \u001b[1;32mif\u001b[0m \u001b[0ma\u001b[0m \u001b[1;33m>\u001b[0m \u001b[1;36m0\u001b[0m\u001b[1;33m:\u001b[0m\u001b[1;33m\u001b[0m\u001b[1;33m\u001b[0m\u001b[0m\n\u001b[1;32m---> 13\u001b[1;33m         \u001b[1;32mraise\u001b[0m \u001b[0mValueError\u001b[0m\u001b[1;33m(\u001b[0m\u001b[1;34m\"a的值大于0，不符合要求\"\u001b[0m\u001b[1;33m)\u001b[0m\u001b[1;33m\u001b[0m\u001b[1;33m\u001b[0m\u001b[0m\n\u001b[0m\u001b[0;32m     14\u001b[0m \u001b[0mmain\u001b[0m\u001b[1;33m(\u001b[0m\u001b[1;33m)\u001b[0m\u001b[1;33m\u001b[0m\u001b[1;33m\u001b[0m\u001b[0m\n",
      "\u001b[1;31mValueError\u001b[0m: a的值大于0，不符合要求",
      "\nDuring handling of the above exception, another exception occurred:\n",
      "\u001b[1;31mValueError\u001b[0m                                Traceback (most recent call last)",
      "\u001b[1;32m<ipython-input-205-d267b13f1e06>\u001b[0m in \u001b[0;36m<module>\u001b[1;34m\u001b[0m\n\u001b[0;32m     12\u001b[0m     \u001b[1;32mif\u001b[0m \u001b[0ma\u001b[0m \u001b[1;33m>\u001b[0m \u001b[1;36m0\u001b[0m\u001b[1;33m:\u001b[0m\u001b[1;33m\u001b[0m\u001b[1;33m\u001b[0m\u001b[0m\n\u001b[0;32m     13\u001b[0m         \u001b[1;32mraise\u001b[0m \u001b[0mValueError\u001b[0m\u001b[1;33m(\u001b[0m\u001b[1;34m\"a的值大于0，不符合要求\"\u001b[0m\u001b[1;33m)\u001b[0m\u001b[1;33m\u001b[0m\u001b[1;33m\u001b[0m\u001b[0m\n\u001b[1;32m---> 14\u001b[1;33m \u001b[0mmain\u001b[0m\u001b[1;33m(\u001b[0m\u001b[1;33m)\u001b[0m\u001b[1;33m\u001b[0m\u001b[1;33m\u001b[0m\u001b[0m\n\u001b[0m",
      "\u001b[1;32m<ipython-input-205-d267b13f1e06>\u001b[0m in \u001b[0;36mmain\u001b[1;34m()\u001b[0m\n\u001b[0;32m      7\u001b[0m         \u001b[0mprint\u001b[0m\u001b[1;33m(\u001b[0m\u001b[1;34m'程序出现异常:'\u001b[0m\u001b[1;33m,\u001b[0m \u001b[0me\u001b[0m\u001b[1;33m)\u001b[0m\u001b[1;33m\u001b[0m\u001b[1;33m\u001b[0m\u001b[0m\n\u001b[0;32m      8\u001b[0m         \u001b[1;31m# 不使用try...except捕捉异常，异常会传播出来导致程序中止，第二次\u001b[0m\u001b[1;33m\u001b[0m\u001b[1;33m\u001b[0m\u001b[1;33m\u001b[0m\u001b[0m\n\u001b[1;32m----> 9\u001b[1;33m         \u001b[0mmtd\u001b[0m\u001b[1;33m(\u001b[0m\u001b[1;36m3\u001b[0m\u001b[1;33m)\u001b[0m\u001b[1;33m\u001b[0m\u001b[1;33m\u001b[0m\u001b[0m\n\u001b[0m\u001b[0;32m     10\u001b[0m \u001b[1;33m\u001b[0m\u001b[0m\n\u001b[0;32m     11\u001b[0m \u001b[1;32mdef\u001b[0m \u001b[0mmtd\u001b[0m\u001b[1;33m(\u001b[0m\u001b[0ma\u001b[0m\u001b[1;33m)\u001b[0m\u001b[1;33m:\u001b[0m\u001b[1;33m\u001b[0m\u001b[1;33m\u001b[0m\u001b[0m\n",
      "\u001b[1;32m<ipython-input-205-d267b13f1e06>\u001b[0m in \u001b[0;36mmtd\u001b[1;34m(a)\u001b[0m\n\u001b[0;32m     11\u001b[0m \u001b[1;32mdef\u001b[0m \u001b[0mmtd\u001b[0m\u001b[1;33m(\u001b[0m\u001b[0ma\u001b[0m\u001b[1;33m)\u001b[0m\u001b[1;33m:\u001b[0m\u001b[1;33m\u001b[0m\u001b[1;33m\u001b[0m\u001b[0m\n\u001b[0;32m     12\u001b[0m     \u001b[1;32mif\u001b[0m \u001b[0ma\u001b[0m \u001b[1;33m>\u001b[0m \u001b[1;36m0\u001b[0m\u001b[1;33m:\u001b[0m\u001b[1;33m\u001b[0m\u001b[1;33m\u001b[0m\u001b[0m\n\u001b[1;32m---> 13\u001b[1;33m         \u001b[1;32mraise\u001b[0m \u001b[0mValueError\u001b[0m\u001b[1;33m(\u001b[0m\u001b[1;34m\"a的值大于0，不符合要求\"\u001b[0m\u001b[1;33m)\u001b[0m\u001b[1;33m\u001b[0m\u001b[1;33m\u001b[0m\u001b[0m\n\u001b[0m\u001b[0;32m     14\u001b[0m \u001b[0mmain\u001b[0m\u001b[1;33m(\u001b[0m\u001b[1;33m)\u001b[0m\u001b[1;33m\u001b[0m\u001b[1;33m\u001b[0m\u001b[0m\n",
      "\u001b[1;31mValueError\u001b[0m: a的值大于0，不符合要求"
     ]
    }
   ],
   "source": [
    "def main():\n",
    "    try:\n",
    "        # 使用try...except来捕捉异常\n",
    "        # 此时即使程序出现异常，也不会传播给main函数,第一次触发异常\n",
    "        mtd(3)\n",
    "    except Exception as e:\n",
    "        print('程序出现异常:', e)\n",
    "        # 不使用try...except捕捉异常，异常会传播出来导致程序中止，第二次\n",
    "        mtd(3)\n",
    "        \n",
    "def mtd(a):\n",
    "    if a > 0:\n",
    "        raise ValueError(\"a的值大于0，不符合要求\")\n",
    "main()"
   ]
  },
  {
   "cell_type": "code",
   "execution_count": null,
   "metadata": {},
   "outputs": [],
   "source": []
  },
  {
   "cell_type": "code",
   "execution_count": null,
   "metadata": {},
   "outputs": [],
   "source": []
  }
 ],
 "metadata": {
  "kernelspec": {
   "display_name": "Python 3",
   "language": "python",
   "name": "python3"
  },
  "language_info": {
   "codemirror_mode": {
    "name": "ipython",
    "version": 3
   },
   "file_extension": ".py",
   "mimetype": "text/x-python",
   "name": "python",
   "nbconvert_exporter": "python",
   "pygments_lexer": "ipython3",
   "version": "3.7.3"
  }
 },
 "nbformat": 4,
 "nbformat_minor": 2
}
