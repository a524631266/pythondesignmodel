{
 "cells": [
  {
   "cell_type": "code",
   "execution_count": 1,
   "metadata": {},
   "outputs": [],
   "source": [
    "import os\n",
    "import sys\n",
    "if 'SPARK_HOME' not in os.environ:\n",
    "    os.environ[\"SPARK_HOME\"] = \"/opt/modules/cdh/spark-2.2.1-bin-2.6.0-cdh5.14.2\"\n",
    "spark_home=os.environ.get('SPARK_HOME',None)\n",
    "os.environ['PATHONPATH'] = \"\"\n",
    "# 使用try ...except来捕捉并提醒没有设置SPARK环境变量，但是程序继续执行，并使用程序内设置的PATH\n",
    "try:\n",
    "    if not spark_home:\n",
    "        raise ValueError('SPARK环境没有配置好')\n",
    "except Exception as e:\n",
    "    print('没有配置SPARK的环境变量:',e)\n",
    "\n",
    "spark_home=\"/opt/modules/cdh/spark-2.2.1-bin-2.6.0-cdh5.14.2\"\n",
    "\n",
    "sys.path.insert(0,os.path.join(spark_home,'python'))\n",
    "sys.path.insert(0,os.path.join(spark_home,'python/lib/py4j-0.10.4-src.zip'))\n",
    "# exec(open(os.path.join(spark_home,'python/pyspark/shell.py')).read())\n",
    "from pyspark import SparkConf,SparkContext\n",
    "\n",
    "if 'SPARK_HOME' not in os.environ:\n",
    "    os.environ[\"SPARK_HOME\"] = \"/opt/modules/cdh/spark-2.2.1-bin-2.6.0-cdh5.14.2\"\n",
    "conf = SparkConf().setAppName('move_data_analysis').setMaster(\"local\")\n",
    "\n",
    "sc = SparkContext(conf=conf).getOrCreate()"
   ]
  },
  {
   "cell_type": "code",
   "execution_count": 2,
   "metadata": {},
   "outputs": [
    {
     "data": {
      "text/plain": [
       "'1|24|M|technician|85711'"
      ]
     },
     "execution_count": 2,
     "metadata": {},
     "output_type": "execute_result"
    }
   ],
   "source": [
    "user_data = sc.textFile(\"hdfs://hadoop01:8020/data/ml/u.user\")\n",
    "\n",
    "user_data.first()"
   ]
  },
  {
   "cell_type": "code",
   "execution_count": 7,
   "metadata": {},
   "outputs": [
    {
     "data": {
      "text/plain": [
       "(943, 2, 21, 795)"
      ]
     },
     "execution_count": 7,
     "metadata": {},
     "output_type": "execute_result"
    }
   ],
   "source": [
    "user_data_split = user_data.map(lambda line: line.split(\"|\"))\n",
    "num_users = user_data_split.map(lambda data: data[0]).distinct().count()\n",
    "num_genders = user_data_split.map(lambda data: data[2]).distinct().count()\n",
    "num_occupations = user_data_split.map(lambda data: data[3]).distinct().count()\n",
    "num_zips = user_data_split.map(lambda data: data[4]).distinct().count()\n",
    "num_users,num_genders,num_occupations,num_zips"
   ]
  },
  {
   "cell_type": "code",
   "execution_count": 13,
   "metadata": {},
   "outputs": [
    {
     "data": {
      "text/plain": [
       "Text(0, 0.5, 'Counts')"
      ]
     },
     "execution_count": 13,
     "metadata": {},
     "output_type": "execute_result"
    },
    {
     "data": {
      "image/png": "[encoded data removed]",
      "text/plain": [
       "<Figure size 432x288 with 1 Axes>"
      ]
     },
     "metadata": {
      "needs_background": "light"
     },
     "output_type": "display_data"
    }
   ],
   "source": [
    "import matplotlib.pyplot as plt\n",
    "# 获取用户年龄这一列\n",
    "ages = user_data_split.map(lambda fields:int(fields[1])).collect()\n",
    "\n",
    "# 创建一个图形实例\n",
    "fig1 = plt.figure()\n",
    "\n",
    "plt.hist(ages,bins = 20,color='lightblue',edgecolor='red')\n",
    "\n",
    "# 用户年龄直方图\n",
    "plt.title(\"Age histogram\")\n",
    "\n",
    "\n",
    "# 设置x轴的名称\n",
    "plt.xlabel(\"Age\")\n",
    "\n",
    "# 设置y轴的名称\n",
    "plt.ylabel(\"Counts\")\n"
   ]
  },
  {
   "cell_type": "code",
   "execution_count": 27,
   "metadata": {},
   "outputs": [
    {
     "name": "stdout",
     "output_type": "stream",
     "text": [
      "[('student', 196), ('other', 105), ('educator', 95), ('administrator', 79), ('engineer', 67), ('programmer', 66), ('librarian', 51), ('writer', 45), ('executive', 32), ('scientist', 31), ('artist', 28), ('technician', 27), ('marketing', 26), ('entertainment', 18), ('healthcare', 16), ('retired', 14), ('lawyer', 12), ('salesman', 12), ('none', 9), ('homemaker', 7), ('doctor', 7)]\n"
     ]
    }
   ],
   "source": [
    "# 降序加-\n",
    "ops = user_data_split.map(lambda fields:(fields[3],1)) \\\n",
    "        .reduceByKey(lambda x,y : x + y) \\\n",
    "        .sortBy(lambda x: -x[1]) \\\n",
    "        .collect()\n",
    "#         .sortByKey  \\\n",
    "print(ops)"
   ]
  },
  {
   "cell_type": "code",
   "execution_count": 43,
   "metadata": {},
   "outputs": [
    {
     "name": "stdout",
     "output_type": "stream",
     "text": [
      "defaultdict(<class 'int'>, {3: 219, 2: 355, 4: 214, 31: 5, 21: 4, 5: 126, 33: 5, 16: 13, 8: 24, 6: 37, 7: 22, 61: 4, 1: 286, 17: 12, 28: 3, 26: 3, 37: 3, 59: 7, 57: 5, 30: 6, 29: 4, 44: 7, 27: 7, 10: 11, 25: 4, 19: 9, 11: 13, 12: 15, 9: 15, 24: 8, 18: 8, 13: 7, 32: 2, 41: 8, 38: 5, 14: 8, 15: 5, 23: 6, 0: 65, 58: 8, 48: 7, 34: 2, 47: 5, 36: 5, 65: 2, 42: 4, 35: 6, 40: 9, 53: 4, 22: 5, 20: 4, 39: 4, 56: 2, 45: 2, 52: 5, 43: 5, 60: 3, 64: 4, 49: 4, 50: 3, 55: 4, 54: 5, 62: 2, 63: 4, 68: 1, 46: 3, 67: 1, 76: 1, 51: 5, 66: 1, 72: 1})\n",
      "dict_values([219, 355, 214, 5, 4, 126, 5, 13, 24, 37, 22, 4, 286, 12, 3, 3, 3, 7, 5, 6, 4, 7, 7, 11, 4, 9, 13, 15, 15, 8, 8, 7, 2, 8, 5, 8, 5, 6, 65, 8, 7, 2, 5, 5, 2, 4, 6, 9, 4, 5, 4, 4, 2, 2, 5, 5, 3, 4, 4, 3, 4, 5, 2, 4, 1, 3, 1, 1, 5, 1, 1])\n"
     ]
    },
    {
     "data": {
      "image/png": "[encoded data removed]",
      "text/plain": [
       "<Figure size 432x288 with 1 Axes>"
      ]
     },
     "metadata": {
      "needs_background": "light"
     },
     "output_type": "display_data"
    }
   ],
   "source": [
    "# 加载电影数据信息\n",
    "movie_data = sc.textFile(\"hdfs://hadoop01:8020/data/ml/u.item\")\n",
    "movie_count = movie_data.count() # 1682\n",
    "# 获取第一个字段\n",
    "movie_data.first()\n",
    "# 获取列名\n",
    "movie_fields = movie_data.map(lambda line: line.split(\"|\"))\n",
    "\n",
    "\n",
    "# 取出电影上映年份 并且数据清洗转换工作\n",
    "def filter_year(x) :\n",
    "    try :\n",
    "        return int(x[-4:])\n",
    "    except:\n",
    "        return 1900\n",
    "movie_year = movie_fields.map(lambda x: filter_year(x[2])) \\\n",
    "                .filter(lambda x: x != 1900) \\\n",
    "                .map(lambda x: 1998 - x) \\\n",
    "                .countByValue()\n",
    "print(movie_year)\n",
    "print(movie_year.values())\n",
    "movie_year.keys()\n",
    "\n",
    "\n",
    "# 绘图\n",
    "y_ais = movie_year.values()\n",
    "x_ais = movie_year.keys()\n",
    "\n",
    "fig3 = plt.figure()\n",
    "plt.bar(x_ais,y_ais,edgecolor='black')\n",
    "plt.title(\"movie age distrubution\")\n",
    "plt.xlabel(\"Movie age\")\n",
    "plt.ylabel(\"Number\")\n",
    "plt.show()\n"
   ]
  },
  {
   "cell_type": "code",
   "execution_count": 59,
   "metadata": {},
   "outputs": [
    {
     "name": "stdout",
     "output_type": "stream",
     "text": [
      "rating_data 196\t242\t3\t881250949\n",
      "num_ratings 100000 ::max_ratings 5\n",
      "min_ratings 1 ::sum_ratings 352986\n",
      "num_movies 1682 ::avg_ratings 209.86087990487516\n"
     ]
    }
   ],
   "source": [
    "# 加载电影数据信息\n",
    "rating_data = sc.textFile(\"hdfs://hadoop01:8020/data/ml/u.data\")\n",
    "print(\"rating_data\",rating_data.first())\n",
    "ratings = rating_data.map(lambda x: x.split(\"\\t\")) \\\n",
    "    .filter(lambda x: x!=None )\n",
    "num_ratings = ratings.count()\n",
    "ratings.first()\n",
    "num_movies = ratings.map(lambda x: x[1]).distinct().count()\n",
    "# 获取最大评分数值\n",
    "max_ratings = ratings.map(lambda x: x[2]).reduce(lambda x, y: max(x,y))\n",
    "# 获取最小评分数值\n",
    "min_ratings = ratings.map(lambda x: x[2]).reduce(lambda x, y: min(x,y))\n",
    "# 获取总和\n",
    "sum_ratings = ratings.map(lambda x: x[2]).reduce(lambda x, y: int(x)+int(y))\n",
    "print(\"num_ratings\", num_ratings,\"::max_ratings\",max_ratings)\n",
    "print(\"min_ratings\", min_ratings,\"::sum_ratings\",sum_ratings)\n",
    "print(\"num_movies\", num_movies,\"::avg_ratings\", sum_ratings / float(num_movies))"
   ]
  }
 ],
 "metadata": {
  "kernelspec": {
   "display_name": "Python 3",
   "language": "python",
   "name": "python3"
  },
  "language_info": {
   "codemirror_mode": {
    "name": "ipython",
    "version": 3
   },
   "file_extension": ".py",
   "mimetype": "text/x-python",
   "name": "python",
   "nbconvert_exporter": "python",
   "pygments_lexer": "ipython3",
   "version": "3.7.3"
  }
 },
 "nbformat": 4,
 "nbformat_minor": 2
}
