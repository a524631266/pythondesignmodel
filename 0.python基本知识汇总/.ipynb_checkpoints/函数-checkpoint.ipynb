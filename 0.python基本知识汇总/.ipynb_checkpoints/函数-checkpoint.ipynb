{
 "cells": [
  {
   "cell_type": "code",
   "execution_count": 8,
   "metadata": {},
   "outputs": [
    {
     "ename": "SyntaxError",
     "evalue": "invalid syntax (<ipython-input-8-7f0e15186198>, line 3)",
     "output_type": "error",
     "traceback": [
      "\u001b[0;36m  File \u001b[0;32m\"<ipython-input-8-7f0e15186198>\"\u001b[0;36m, line \u001b[0;32m3\u001b[0m\n\u001b[0;31m    a, **c = 1, ...{a = 12}\u001b[0m\n\u001b[0m        ^\u001b[0m\n\u001b[0;31mSyntaxError\u001b[0m\u001b[0;31m:\u001b[0m invalid syntax\n"
     ]
    }
   ],
   "source": [
    "a, *b = 1,{\"key\":1,\"v\":2}\n",
    "print(b)\n",
    "a, **c = 1, {a = 12}"
   ]
  },
  {
   "cell_type": "code",
   "execution_count": 10,
   "metadata": {},
   "outputs": [
    {
     "name": "stdout",
     "output_type": "stream",
     "text": [
      "a 1\n",
      "b (3, 4, 5)\n",
      "c {'d': 12, 'e': 34}\n"
     ]
    }
   ],
   "source": [
    "def print1(a,*b,**c):\n",
    "    print(\"a\",a)\n",
    "    print(\"b\", b)\n",
    "    print(\"c\", c)\n",
    "print1(1,3,4,5,d=12,e=34)"
   ]
  },
  {
   "cell_type": "code",
   "execution_count": 19,
   "metadata": {},
   "outputs": [
    {
     "name": "stdout",
     "output_type": "stream",
     "text": [
      "i, 4\n",
      "i, 5\n",
      "i, 3\n"
     ]
    }
   ],
   "source": [
    "def filter2(x):\n",
    "    return x > 2\n",
    "data = [1,2,4,5,3,2]\n",
    "d = filter(filter2,data)\n",
    "for i in d:\n",
    "    print(\"i,\" , i)"
   ]
  },
  {
   "cell_type": "code",
   "execution_count": 24,
   "metadata": {},
   "outputs": [
    {
     "name": "stdout",
     "output_type": "stream",
     "text": [
      "89\n",
      "None\n",
      "90\n",
      "None\n",
      "89\n",
      "None\n",
      "90\n",
      "None\n"
     ]
    }
   ],
   "source": [
    "# 高级本地调用\n",
    "def f1():\n",
    "    X = 88\n",
    "    def f2():\n",
    "        nonlocal X\n",
    "        X += 1\n",
    "        print(X)\n",
    "    return f2\n",
    "action = f1()\n",
    "print(action())\n",
    "print(action())\n",
    "action2 = f1()\n",
    "print(action2())\n",
    "print(action2())"
   ]
  }
 ],
 "metadata": {
  "kernelspec": {
   "display_name": "Python 3",
   "language": "python",
   "name": "python3"
  },
  "language_info": {
   "codemirror_mode": {
    "name": "ipython",
    "version": 3
   },
   "file_extension": ".py",
   "mimetype": "text/x-python",
   "name": "python",
   "nbconvert_exporter": "python",
   "pygments_lexer": "ipython3",
   "version": "3.7.3"
  }
 },
 "nbformat": 4,
 "nbformat_minor": 2
}
