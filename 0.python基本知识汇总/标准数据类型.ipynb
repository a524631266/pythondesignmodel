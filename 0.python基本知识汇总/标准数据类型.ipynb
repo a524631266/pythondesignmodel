{
 "cells": [
  {
   "cell_type": "code",
   "execution_count": 1,
   "metadata": {},
   "outputs": [
    {
     "name": "stdout",
     "output_type": "stream",
     "text": [
      "True\n",
      "True\n",
      "139635970364840 139635970364840\n",
      "True\n",
      "False\n",
      "139635969520672 139635969520840\n"
     ]
    }
   ],
   "source": [
    "# 在理解python 字符串处理的时候，需要关注两个点\n",
    "# 第一，Python更倾向于是一种解释型语言，也就是说直接使用.py文件就可以运行，python解释器，会把文件中的\n",
    "# 每一行代码实时翻译成机器语言，因此在这个意义上来说会比编译性语言（ｃ／ｊａｖａ）会慢，因为python在实时\n",
    "# 处理代码的时候都是先翻译成机器码，然后才能执行机器码，多了一步翻译操作\n",
    "# 第二个ｐｙｔｈｏｎ中不存在基本数据类型\n",
    "# 意思就是说，并没有像java中的 int，char等基本数据类型（非类），因此有些人会说在python中一切都是对象(实例的意义)\n",
    "# ，所有数据类型都是继承自object,查看python内置的类中是没有char类的\n",
    "a = \"hello\"\n",
    "# \"\" 与　''是一致的，原因是python所有类型都是由class构建的，没有基本数据类型的概念，且没有ｃｈａｒ类\n",
    "b = 'hello'\n",
    "d = \"hello\"\n",
    "print(a == b)\n",
    "print(a is b)\n",
    "print(id(a), id(b))\n",
    "a= \"a b c\"\n",
    "b= 'a b c'\n",
    "print(a == b)\n",
    "print(a is b)# 字符串地址不一致，有空格的字符串会指向不同地址\n",
    "print(id(a), id(b))\n"
   ]
  },
  {
   "cell_type": "code",
   "execution_count": 2,
   "metadata": {},
   "outputs": [
    {
     "name": "stdout",
     "output_type": "stream",
     "text": [
      "isinstance(\"asd\",str) True\n",
      "isinstance(son, Mother) True\n",
      "True\n",
      "False\n"
     ]
    }
   ],
   "source": [
    "# 使用isinstance 来判断对象是否是指定类的实例\n",
    "# 在其他语言中也有这个功能的函数，其实是对一个对象属于某类对象的一个非常好的判断工具\n",
    "print(\"isinstance(\\\"asd\\\",str)\",isinstance(\"asd\",str))\n",
    "# 同时子类的对象也是父类的实例\n",
    "class Mother:\n",
    "    name = \"wan ai zhu\"\n",
    "    def __init__(self):\n",
    "        pass\n",
    "class Son(Mother):\n",
    "    name = \"zhang l l\"\n",
    "    def __init__(self):\n",
    "        pass\n",
    "son = Son()\n",
    "print(\"isinstance(son, Mother)\",isinstance(son, Mother))\n",
    "# 所有类都是object的实例\n",
    "print(isinstance(Son,object))\n",
    "# 本类不属于本类的实例，本类＝＝本类\n",
    "print(isinstance(Son,Son))"
   ]
  },
  {
   "cell_type": "code",
   "execution_count": 3,
   "metadata": {},
   "outputs": [
    {
     "name": "stdout",
     "output_type": "stream",
     "text": [
      "a b c\n",
      "a[-1]: c\n",
      "a[0]: a\n"
     ]
    }
   ],
   "source": [
    "# 字符串下标获取\n",
    "print(a)\n",
    "# 反向索引\n",
    "print(\"a[-1]:\",a[-1])\n",
    "print(\"a[0]:\",a[0])"
   ]
  },
  {
   "cell_type": "code",
   "execution_count": 4,
   "metadata": {},
   "outputs": [
    {
     "name": "stdout",
     "output_type": "stream",
     "text": [
      "a: a b c\n",
      "a[:] a b c\n",
      "a[:-2] a b\n",
      "a[-3:] b c\n",
      "a[2:] b c\n",
      "a[-3:4] b \n"
     ]
    }
   ],
   "source": [
    "# 切片 左闭右开\n",
    "print(\"a:\",a)\n",
    "print(\"a[:]\",a[:])\n",
    "print(\"a[:-2]\",a[:-2])\n",
    "print(\"a[-3:]\",a[-3:])\n",
    "print(\"a[2:]\",a[2:])\n",
    "print(\"a[-3:4]\",a[-3:4])"
   ]
  },
  {
   "cell_type": "code",
   "execution_count": 5,
   "metadata": {},
   "outputs": [
    {
     "ename": "TypeError",
     "evalue": "can only concatenate str (not \"int\") to str",
     "output_type": "error",
     "traceback": [
      "\u001b[0;31m---------------------------------------------------------------------------\u001b[0m",
      "\u001b[0;31mTypeError\u001b[0m                                 Traceback (most recent call last)",
      "\u001b[0;32m<ipython-input-5-a80ea26d15b1>\u001b[0m in \u001b[0;36m<module>\u001b[0;34m\u001b[0m\n\u001b[1;32m      2\u001b[0m \u001b[0mname\u001b[0m \u001b[0;34m=\u001b[0m \u001b[0;34m\"zhangll:\"\u001b[0m\u001b[0;34m\u001b[0m\u001b[0;34m\u001b[0m\u001b[0m\n\u001b[1;32m      3\u001b[0m \u001b[0mage\u001b[0m \u001b[0;34m=\u001b[0m \u001b[0;36m12\u001b[0m\u001b[0;34m\u001b[0m\u001b[0;34m\u001b[0m\u001b[0m\n\u001b[0;32m----> 4\u001b[0;31m \u001b[0mres\u001b[0m \u001b[0;34m=\u001b[0m \u001b[0mname\u001b[0m \u001b[0;34m+\u001b[0m \u001b[0mage\u001b[0m\u001b[0;34m\u001b[0m\u001b[0;34m\u001b[0m\u001b[0m\n\u001b[0m",
      "\u001b[0;31mTypeError\u001b[0m: can only concatenate str (not \"int\") to str"
     ]
    }
   ],
   "source": [
    "# 字符串与数值类不能直接＋，因为在字符串中的字符串的加法操作运算符不支持其他类的合并\n",
    "name = \"zhangll:\"\n",
    "age = 12\n",
    "res = name + age\n"
   ]
  },
  {
   "cell_type": "code",
   "execution_count": 14,
   "metadata": {},
   "outputs": [
    {
     "name": "stdout",
     "output_type": "stream",
     "text": [
      "123, next 34\n",
      "123, next 123\n",
      "124.00%\n",
      "124.00 %\n"
     ]
    }
   ],
   "source": [
    "# format等价于\"%s\"方式打印输出字符串\n",
    "# https://docs.python.org/3/library/stdtypes.html?highlight=format#str.format\n",
    "print(\"{}, next {}\".format(\"123\",34))\n",
    "print(\"{0}, next {0}\".format(\"123\",34))\n",
    "print(\"{:.02f}%\".format(123.999))\n",
    "# \"%s\"是format的一个缩写形式 用％％表示％\n",
    "print(\"%.02f %%\"% 123.999)"
   ]
  },
  {
   "cell_type": "code",
   "execution_count": 7,
   "metadata": {},
   "outputs": [
    {
     "name": "stdout",
     "output_type": "stream",
     "text": [
      "hell o\n",
      "8\n",
      "hewwo\n",
      "['hello', 'my', 'name']\n",
      "HELLO\n",
      "hello\n"
     ]
    }
   ],
   "source": [
    "##### 字符串相关操作，一旦操作字符串，请记住，正则表达式操作（仔细看精通正则表达式（教会你正则的正统概念），读透为止）\n",
    "# 这里就不细说正则内容，同时也不需要知道字符串下面的内容，只要了解字符串有哪些操作，这个与语言无关，因为在其他语言中\n",
    "# 也有类似的操作，只要在使用的时候能够知道，字符串能有这些处理就行\n",
    "# 去前后空格\n",
    "print(\" hell o \".strip())\n",
    "# 字符串长度　区别于c++中的字符串在c/c++类型中的字符串是包含\\0的\n",
    "print(len(\" hell o \"))\n",
    "\n",
    "# replace替换\n",
    "print(\"hello\".replace(\"l\",\"w\"))\n",
    "\n",
    "# split 切成列表\n",
    "print(\"hello my name\".split(\" \"))\n",
    "\n",
    "# upper lower 大小写\n",
    "print(\"hello\".upper())\n",
    "print(\"hello\".upper().lower())\n"
   ]
  },
  {
   "cell_type": "code",
   "execution_count": 8,
   "metadata": {},
   "outputs": [
    {
     "name": "stdout",
     "output_type": "stream",
     "text": [
      "3.3333333333333335\n",
      "101010\n",
      "3\n",
      "9\n",
      "-2\n",
      "0\n",
      "28\n",
      "True\n",
      "3\n",
      "{1, 3, 4, 6}\n"
     ]
    }
   ],
   "source": [
    "# 操作运算符　+ - * / // % ** ~ > < << >> ^\n",
    "# 同样道理，你也不需要操作符是哪些，你只要核心记住　有哪些操作就行\n",
    "print(10 / 3)\n",
    "print('10' * 3) # 字符串类中＊操作符，会串联多个字符串\n",
    "print( 10 // 3) # 取整数\n",
    "print( 3 ** 2 ) # ３的２次幂\n",
    "print( ~1) # 1取反-1 \n",
    "print( ~-1) # -1取反-1\n",
    "print(7 << 2) # 7 二进制　00000111左移动两位　00011100 == 28 = 2** 4+2**3 + 2**2 = 16+8+4\n",
    "print(3 < 6) # 判断运算符\n",
    "\n",
    "print( 1 ^ 2) # 异或　，异１　也就是不同值为１，相同值为０，可以衍生为两个ｓｅｔ中不同时存在的元素\n",
    "\n",
    "set1 = { 1, 2, 4, 5}\n",
    "set2 = { 2, 3, 5, 6}\n",
    "print(set1 ^ set2) # 1,3,4,6"
   ]
  },
  {
   "cell_type": "code",
   "execution_count": 9,
   "metadata": {},
   "outputs": [
    {
     "name": "stdout",
     "output_type": "stream",
     "text": [
      "139635969983240 139635969984392\n",
      "True\n",
      "False\n"
     ]
    }
   ],
   "source": [
    "# 列表\n",
    "a = [1,2,3,4]\n",
    "b = a[:]\n",
    "print(id(a), id(b))\n",
    "print(a == b)\n",
    "print(a is b)"
   ]
  },
  {
   "cell_type": "code",
   "execution_count": 10,
   "metadata": {
    "scrolled": true
   },
   "outputs": [
    {
     "name": "stdout",
     "output_type": "stream",
     "text": [
      "[3, 4, 2, 1]\n",
      "[1, 2, 3, 4]\n",
      "[1, 2, 3, 4]\n"
     ]
    },
    {
     "data": {
      "text/plain": [
       "[4, 16]"
      ]
     },
     "execution_count": 10,
     "metadata": {},
     "output_type": "execute_result"
    }
   ],
   "source": [
    "unsorted = [1, 2, 4, 3]\n",
    "# 反转\n",
    "unsorted.reverse()\n",
    "print(unsorted)\n",
    "\n",
    "unsorted.sort()\n",
    "print(unsorted)\n",
    "# 逆序　＝＝　升序的反转\n",
    "unsorted.sort(reverse=False)\n",
    "print(unsorted)\n",
    "\n",
    "# 列表推导式\n",
    "[x ** 2 for x in unsorted if x % 2 == 0]\n"
   ]
  },
  {
   "cell_type": "code",
   "execution_count": 11,
   "metadata": {},
   "outputs": [
    {
     "name": "stdout",
     "output_type": "stream",
     "text": [
      "2)a(1) is equal to b(1) and c(2) is less than d(3)\n"
     ]
    }
   ],
   "source": [
    "# 逻辑判断运算符,非比较算数运算符\n",
    "# and or\n",
    "a, b = 1,1\n",
    "c, d = 2, 3\n",
    "\n",
    "if  a == b and c == d:\n",
    "    print(\"1)a(%d) is equal to b(%d), and c(%d) is equal to d(%d)\"%(a, b, c ,d))\n",
    "elif a == b and c < d:\n",
    "    print(\"2)a(%d) is equal to b(%d) and c(%d) is less than d(%d)\"% (a, b, c, d))\n",
    "else:\n",
    "    print(\"3)other\")\n",
    "        \n",
    "    "
   ]
  },
  {
   "cell_type": "code",
   "execution_count": null,
   "metadata": {},
   "outputs": [],
   "source": []
  }
 ],
 "metadata": {
  "kernelspec": {
   "display_name": "Python 3",
   "language": "python",
   "name": "python3"
  },
  "language_info": {
   "codemirror_mode": {
    "name": "ipython",
    "version": 3
   },
   "file_extension": ".py",
   "mimetype": "text/x-python",
   "name": "python",
   "nbconvert_exporter": "python",
   "pygments_lexer": "ipython3",
   "version": "3.7.3"
  }
 },
 "nbformat": 4,
 "nbformat_minor": 2
}
