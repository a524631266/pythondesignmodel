{
 "cells": [
  {
   "cell_type": "code",
   "execution_count": 10,
   "metadata": {},
   "outputs": [
    {
     "name": "stdout",
     "output_type": "stream",
     "text": [
      "eyes 2 ;id(person.eyes) 94272062198848 94272062198848\n",
      "eyes 3 ;id(person.eyes) 94272062198880 94272062198848\n",
      "class Person eyes 2\n"
     ]
    }
   ],
   "source": [
    "class Person:\n",
    "    eyes = 2\n",
    "    def sayHello(self,eyes):\n",
    "        self.eyes = eyes\n",
    "person =  Person()\n",
    " # 当对象中没有eyes的时候,会person中获取到其id\n",
    "print(\"eyes\",person.eyes,\";id(person.eyes)\",id(person.eyes),id(Person.eyes)) \n",
    "person.sayHello(3) # 此时会在person实例中新增一个eyes变量\n",
    "print(\"eyes\",person.eyes,\";id(person.eyes)\",id(person.eyes),id(Person.eyes))\n",
    "print(\"class Person eyes\", Person.eyes,)"
   ]
  },
  {
   "cell_type": "code",
   "execution_count": 19,
   "metadata": {},
   "outputs": [
    {
     "name": "stdout",
     "output_type": "stream",
     "text": [
      "1999\n"
     ]
    }
   ],
   "source": [
    "# 私有化？\n",
    "class Person1:\n",
    "    __money = 1999\n",
    "    eyes = 2\n",
    "    def sayHello(self,eyes):\n",
    "        self.eyes = eyes\n",
    "person = Person1()\n",
    "# 访问私有化的方法\n",
    "print(person._Person1__money)"
   ]
  },
  {
   "cell_type": "code",
   "execution_count": 23,
   "metadata": {},
   "outputs": [
    {
     "data": {
      "text/plain": [
       "'mother'"
      ]
     },
     "execution_count": 23,
     "metadata": {},
     "output_type": "execute_result"
    }
   ],
   "source": [
    "#多继承,树的\n",
    "class Mother:\n",
    "    name = \"mother\"\n",
    "class Father:\n",
    "    name = \"father\"\n",
    "class Son(Mother,Father):\n",
    "    pass\n",
    "son = Son()\n",
    "son.name\n",
    "Son.name = \"a\"\n",
    "Mother.name\n"
   ]
  },
  {
   "cell_type": "code",
   "execution_count": null,
   "metadata": {},
   "outputs": [],
   "source": []
  }
 ],
 "metadata": {
  "kernelspec": {
   "display_name": "Python 3",
   "language": "python",
   "name": "python3"
  },
  "language_info": {
   "codemirror_mode": {
    "name": "ipython",
    "version": 3
   },
   "file_extension": ".py",
   "mimetype": "text/x-python",
   "name": "python",
   "nbconvert_exporter": "python",
   "pygments_lexer": "ipython3",
   "version": "3.7.3"
  }
 },
 "nbformat": 4,
 "nbformat_minor": 2
}
